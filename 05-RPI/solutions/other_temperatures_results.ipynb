{
 "cells": [
  {
   "cell_type": "markdown",
   "metadata": {},
   "source": [
    "Let's get started!"
   ]
  },
  {
   "cell_type": "code",
   "execution_count": 1,
   "metadata": {},
   "outputs": [],
   "source": [
    "import numpy as np\n",
    "\n",
    "#UNITS:  \n",
    "invcm2au = 4.5563353e-06 #in i-PI unit_to_internal(\"frequency\", \"inversecm\", 1.0)\n",
    "kelvin2au=3.1668152e-06\n",
    "\n"
   ]
  },
  {
   "cell_type": "code",
   "execution_count": 2,
   "metadata": {},
   "outputs": [],
   "source": [
    "\n",
    "\n",
    "def kappa(Q_trn_TS,Q_rot_TS,Q_vib_TS,Q_trn_inst,Q_rot_inst,Q_vib_inst,BP,beta,P,S_over_hbar,Beta_times_V):\n",
    "    f_trn = Q_trn_inst / Q_trn_TS\n",
    "    f_rot = Q_rot_inst / Q_rot_TS\n",
    "    f_vib = np.sqrt((2.*np.pi*P*BP)/(beta*hbar**2))*Q_vib_inst/Q_vib_TS\n",
    "    \n",
    "    kappa = f_trn * f_rot * f_vib * np.exp(-S_over_hbar + Beta_times_V)\n",
    "    \n",
    "    #printing out the transmission factor and the relevant contributions. \n",
    "    print('f_tra               = {:5.3f}'.format(f_trn))\n",
    "    print('f_rot               = {:5.3f}'.format(f_rot))\n",
    "    print('f_vib               = {:5.3f}'.format(f_vib))\n",
    "    print('exp(-S/hbar+V/beta) = {:5.3f}'.format(np.exp(-S_over_hbar + Beta_times_V) ))\n",
    "    print('=============================')\n",
    "    print('Tunneling factor    = {:5.3f}'.format(kappa))\n",
    "        \n",
    "    #return kappa\n"
   ]
  },
  {
   "cell_type": "code",
   "execution_count": 3,
   "metadata": {},
   "outputs": [
    {
     "name": "stdout",
     "output_type": "stream",
     "text": [
      "f_tra               = 1.000\n",
      "f_rot               = 1.098\n",
      "f_vib               = 6.794\n",
      "exp(-S/hbar+V/beta) = 2.572\n",
      "=============================\n",
      "Tunneling factor    = 19.181\n"
     ]
    }
   ],
   "source": [
    "nbeads= 160\n",
    "TEMP=250 \n",
    "#TS quantities\n",
    "Q_trn_TS = 7.750260615065439\n",
    "Q_rot_TS = 917.5501311360462\n",
    "Q_vib_TS = np.exp(-53.24332208091698)\n",
    "Beta_times_V = 30.198766255763836\n",
    "\n",
    "#Instnaton quantities\n",
    "Q_trn_inst = 7.750\n",
    "Q_rot_inst = 1007.081\n",
    "Q_vib_inst = np.exp(-53.124)\n",
    "BP = 45.684\n",
    "S_over_hbar = 29.254\n",
    "\n",
    "#Constants\n",
    "beta =  1/(TEMP*kelvin2au)\n",
    "hbar = 1 \n",
    "P = nbeads\n",
    "kappa(Q_trn_TS,Q_rot_TS,Q_vib_TS,Q_trn_inst,Q_rot_inst,Q_vib_inst,BP,beta,P,S_over_hbar,Beta_times_V)"
   ]
  },
  {
   "cell_type": "code",
   "execution_count": 4,
   "metadata": {},
   "outputs": [
    {
     "name": "stdout",
     "output_type": "stream",
     "text": [
      "f_tra               = 1.000\n",
      "f_rot               = 1.098\n",
      "f_vib               = 6.692\n",
      "exp(-S/hbar+V/beta) = 2.572\n",
      "=============================\n",
      "Tunneling factor    = 18.892\n"
     ]
    }
   ],
   "source": [
    "nbeads= 320\n",
    "TEMP=250 \n",
    "#TS quantities\n",
    "Q_trn_TS = 7.750260615065439\n",
    "Q_rot_TS = 917.5501311360462\n",
    "Q_vib_TS = np.exp(-53.24332208091698)\n",
    "Beta_times_V = 30.198766255763836\n",
    "\n",
    "#Instnaton quantities\n",
    "Q_trn_inst = 7.750\n",
    "Q_rot_inst = 1007.057\n",
    "Q_vib_inst = np.exp(-53.139)\n",
    "BP = 22.837\n",
    "S_over_hbar = 29.254\n",
    "\n",
    "#Constants\n",
    "beta =  1/(TEMP*kelvin2au)\n",
    "hbar = 1 \n",
    "P = nbeads\n",
    "kappa(Q_trn_TS,Q_rot_TS,Q_vib_TS,Q_trn_inst,Q_rot_inst,Q_vib_inst,BP,beta,P,S_over_hbar,Beta_times_V)"
   ]
  },
  {
   "cell_type": "markdown",
   "metadata": {},
   "source": [
    "======================================"
   ]
  },
  {
   "cell_type": "code",
   "execution_count": 5,
   "metadata": {},
   "outputs": [
    {
     "name": "stdout",
     "output_type": "stream",
     "text": [
      "f_tra               = 1.000\n",
      "f_rot               = 1.181\n",
      "f_vib               = 6.804\n",
      "exp(-S/hbar+V/beta) = 24.667\n",
      "=============================\n",
      "Tunneling factor    = 198.316\n"
     ]
    }
   ],
   "source": [
    "nbeads= 160\n",
    "TEMP=200 \n",
    "#TS quantities\n",
    "Q_trn_TS = 5.545635065160208\n",
    "Q_rot_TS = 656.5454291148945\n",
    "Q_vib_TS = np.exp(-66.63192637355407)\n",
    "Beta_times_V = 37.7484578197048\n",
    "\n",
    "#Instnaton quantities\n",
    "Q_trn_inst =5.546\n",
    "Q_rot_inst = 775.705\n",
    "Q_vib_inst = np.exp(-66.815)\n",
    "BP = 104.865\n",
    "S_over_hbar = 34.543\n",
    "\n",
    "#Constants\n",
    "beta =  1/(TEMP*kelvin2au)\n",
    "hbar = 1 \n",
    "P = nbeads\n",
    "kappa(Q_trn_TS,Q_rot_TS,Q_vib_TS,Q_trn_inst,Q_rot_inst,Q_vib_inst,BP,beta,P,S_over_hbar,Beta_times_V)"
   ]
  },
  {
   "cell_type": "code",
   "execution_count": 6,
   "metadata": {},
   "outputs": [
    {
     "name": "stdout",
     "output_type": "stream",
     "text": [
      "f_tra               = 1.000\n",
      "f_rot               = 1.181\n",
      "f_vib               = 6.583\n",
      "exp(-S/hbar+V/beta) = 24.642\n",
      "=============================\n",
      "Tunneling factor    = 191.664\n"
     ]
    }
   ],
   "source": [
    "nbeads= 320\n",
    "TEMP=200 \n",
    "#TS quantities\n",
    "Q_trn_TS = 5.545635065160208\n",
    "Q_rot_TS = 656.5454291148945\n",
    "Q_vib_TS = np.exp(-66.63192637355407)\n",
    "Beta_times_V = 37.7484578197048\n",
    "\n",
    "#Instnaton quantities\n",
    "Q_trn_inst =5.546\n",
    "Q_rot_inst = 775.680\n",
    "Q_vib_inst = np.exp(-66.848)\n",
    "BP = 52.424\n",
    "S_over_hbar = 34.544\n",
    "\n",
    "#Constants\n",
    "beta =  1/(TEMP*kelvin2au)\n",
    "hbar = 1 \n",
    "P = nbeads\n",
    "kappa(Q_trn_TS,Q_rot_TS,Q_vib_TS,Q_trn_inst,Q_rot_inst,Q_vib_inst,BP,beta,P,S_over_hbar,Beta_times_V)"
   ]
  },
  {
   "cell_type": "markdown",
   "metadata": {},
   "source": [
    "======================================"
   ]
  },
  {
   "cell_type": "code",
   "execution_count": 7,
   "metadata": {},
   "outputs": [
    {
     "name": "stdout",
     "output_type": "stream",
     "text": [
      "f_tra               = 1.000\n",
      "f_rot               = 1.307\n",
      "f_vib               = 11.855\n",
      "exp(-S/hbar+V/beta) = 6804.076\n",
      "=============================\n",
      "Tunneling factor    = 105434.964\n"
     ]
    }
   ],
   "source": [
    "nbeads= 160\n",
    "TEMP=150 \n",
    "#TS quantities\n",
    "Q_trn_TS = 3.6019956349098825\n",
    "Q_rot_TS = 426.4387652640405\n",
    "Q_vib_TS = np.exp(-88.88736769552979)\n",
    "Beta_times_V = 50.33127709293973\n",
    "\n",
    "#Instnaton quantities\n",
    "Q_trn_inst = 3.602\n",
    "Q_rot_inst = 557.404\n",
    "Q_vib_inst = np.exp(-88.749)\n",
    "BP = 223.154\n",
    "S_over_hbar = 41.506\n",
    "\n",
    "\n",
    "#Constants\n",
    "beta =  1/(TEMP*kelvin2au)\n",
    "hbar = 1 \n",
    "P = nbeads\n",
    "kappa(Q_trn_TS,Q_rot_TS,Q_vib_TS,Q_trn_inst,Q_rot_inst,Q_vib_inst,BP,beta,P,S_over_hbar,Beta_times_V)"
   ]
  },
  {
   "cell_type": "code",
   "execution_count": 8,
   "metadata": {},
   "outputs": [
    {
     "name": "stdout",
     "output_type": "stream",
     "text": [
      "f_tra               = 1.000\n",
      "f_rot               = 1.307\n",
      "f_vib               = 10.909\n",
      "exp(-S/hbar+V/beta) = 6783.694\n",
      "=============================\n",
      "Tunneling factor    = 96728.300\n"
     ]
    }
   ],
   "source": [
    "nbeads= 320\n",
    "TEMP=150 \n",
    "#TS quantities\n",
    "Q_trn_TS = 3.6019956349098825\n",
    "Q_rot_TS = 426.4387652640405\n",
    "Q_vib_TS = np.exp(-88.88736769552979)\n",
    "Beta_times_V = 50.33127709293973\n",
    "\n",
    "#Instnaton quantities\n",
    "Q_trn_inst = 3.602\n",
    "Q_rot_inst = 557.369\n",
    "Q_vib_inst = np.exp(-88.832)\n",
    "BP = 111.549\n",
    "S_over_hbar =41.509\n",
    "\n",
    "#Constants\n",
    "beta =  1/(TEMP*kelvin2au)\n",
    "hbar = 1 \n",
    "P = nbeads\n",
    "kappa(Q_trn_TS,Q_rot_TS,Q_vib_TS,Q_trn_inst,Q_rot_inst,Q_vib_inst,BP,beta,P,S_over_hbar,Beta_times_V)"
   ]
  },
  {
   "cell_type": "code",
   "execution_count": null,
   "metadata": {},
   "outputs": [],
   "source": []
  },
  {
   "cell_type": "code",
   "execution_count": null,
   "metadata": {},
   "outputs": [],
   "source": []
  }
 ],
 "metadata": {
  "kernelspec": {
   "display_name": "Python 3",
   "language": "python",
   "name": "python3"
  },
  "language_info": {
   "codemirror_mode": {
    "name": "ipython",
    "version": 3
   },
   "file_extension": ".py",
   "mimetype": "text/x-python",
   "name": "python",
   "nbconvert_exporter": "python",
   "pygments_lexer": "ipython3",
   "version": "3.7.6"
  }
 },
 "nbformat": 4,
 "nbformat_minor": 4
}
