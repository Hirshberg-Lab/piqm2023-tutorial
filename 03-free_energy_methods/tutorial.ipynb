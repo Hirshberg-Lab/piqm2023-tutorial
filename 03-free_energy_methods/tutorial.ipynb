{
 "cells": [
  {
   "cell_type": "code",
   "execution_count": null,
   "id": "393da438",
   "metadata": {},
   "outputs": [],
   "source": [
    "import pimdmooc\n",
    "import numpy as np\n",
    "import matplotlib.pyplot as plt\n",
    "pimdmooc.add_ipi_paths(base='/home/vk380/scratch/piqm2023-tutorial/i-pi')"
   ]
  },
  {
   "cell_type": "markdown",
   "id": "969f33d1",
   "metadata": {},
   "source": [
    "# THE MODEL SYSTEM"
   ]
  },
  {
   "cell_type": "markdown",
   "id": "5600832b",
   "metadata": {},
   "source": [
    "We will consider the effective Hamiltonian of a hydrogen atom in an effectively 1D double well from Ref.[1]. Its potential energy surface (PES) is described by the function\n",
    "\n",
    "$V = A x^2 + B x^4 + \\frac{1}{2} m \\omega^2 y^2 + \\frac{1}{2} m \\omega^2 z^2$\n",
    "\n",
    "with \n",
    "\n",
    "$m = 1837.107~\\text{a.u.}$, \n",
    "\n",
    "$\\omega = 3800 ~\\text{cm}^{-1} = 0.017314074~\\text{a.u.}$\n",
    "\n",
    "$A = -0.00476705894242374~\\text{a.u.}$\n",
    "\n",
    "$B = 0.000598024968321866~\\text{a.u.}$"
   ]
  },
  {
   "cell_type": "markdown",
   "id": "17823ec9",
   "metadata": {},
   "source": [
    "Let's define a function to visualize the PES!"
   ]
  },
  {
   "cell_type": "code",
   "execution_count": null,
   "id": "84b55f77",
   "metadata": {},
   "outputs": [],
   "source": [
    "def PES(x, y , z):\n",
    "    \"\"\"\n",
    "    PES from Ref.[1]\n",
    "    \"\"\"\n",
    "    \n",
    "    A = -0.00476705894242374\n",
    "    B = 0.000598024968321866 \n",
    "    k = 1837.107 * 0.017314074**2\n",
    "    \n",
    "    return A * x**2 + B * x**4 + k * y**2 / 2 +  k * z**2 / 2"
   ]
  },
  {
   "cell_type": "markdown",
   "id": "c8f6b901",
   "metadata": {},
   "source": [
    "The PES, in three dimensions, can be drawn with xy contours (each contour corresponds to kB T with T = 300 K), for various z values. "
   ]
  },
  {
   "cell_type": "code",
   "execution_count": null,
   "id": "90857897",
   "metadata": {},
   "outputs": [],
   "source": [
    "x = np.linspace(-3,3,21)\n",
    "y = np.linspace(-0.5,0.5,21)\n",
    "\n",
    "X, Y = np.meshgrid(x, y)\n",
    "Z = PES(X, Y, 0)\n",
    "\n",
    "\n",
    "contour_levels = [np.min(Z) + 0.00095004347 * i for i in range(12)]\n",
    "\n",
    "plt.title(r'$V(x,y,0)$')\n",
    "plt.xlabel(r'$x$ [a.u.]')\n",
    "plt.ylabel(r'$y$ [a.u.]')\n",
    "plt.contour(X, Y, Z, levels=contour_levels)\n",
    "plt.show()"
   ]
  },
  {
   "cell_type": "markdown",
   "id": "bf4f7235",
   "metadata": {},
   "source": [
    "Q: Looking at the contours can you tell if delocalization of the system to its other minimum is a rare event with respect to the time scale of the system's vibrations?"
   ]
  },
  {
   "cell_type": "markdown",
   "id": "8941e93e",
   "metadata": {},
   "source": [
    "Q: Feel free to plot it for various z values. Does the plot change? What does it tell you about the coupling between the modes?"
   ]
  },
  {
   "cell_type": "markdown",
   "id": "7887b73d",
   "metadata": {},
   "source": [
    "# 1. CALCULATING THE FREE ENERGY OF A HAMILTONIAN"
   ]
  },
  {
   "cell_type": "markdown",
   "id": "3c0226d9",
   "metadata": {},
   "source": [
    "### THE HARMONIC APPROXIMATION"
   ]
  },
  {
   "cell_type": "markdown",
   "id": "0b65f5d5",
   "metadata": {},
   "source": [
    "The harmonic approximation to the PES is essentially a truncated Taylor series expansion to second order around one of its minima."
   ]
  },
  {
   "cell_type": "markdown",
   "id": "176ae8aa",
   "metadata": {},
   "source": [
    "$V^{\\text{harm}} = V(q_0) + \\frac{2}{2} \\left.\\frac{\\partial^2 V}{\\partial q^2}\\right|_{q_0} (q - q_0)^2$  where  $q = (x,y,z)$ is a position vector and  $q_0 = \\text{arg min}_{q} V$ is the position where the PES has a local minimum."
   ]
  },
  {
   "cell_type": "markdown",
   "id": "872cc46f",
   "metadata": {},
   "source": [
    "Let's use the i-PI code to optimize the PES with respect to its position to find $q_0$ and $V^{\\text{harm}}$."
   ]
  },
  {
   "cell_type": "markdown",
   "id": "8c91cd49",
   "metadata": {},
   "source": [
    "#### STEP 1: FIXED CELL GEOMETRY OPTIMIZATION"
   ]
  },
  {
   "cell_type": "markdown",
   "id": "0621ae35",
   "metadata": {},
   "source": [
    "To find $q_0$ we will use the fixed-cell geometry optimization feature of i-PI! Go to the `free_energy` directory\n",
    "\n",
    "```sh\n",
    "$ cd free_energy\n",
    "```\n",
    "\n",
    "and then into the `geop` directory\n",
    "\n",
    "```sh\n",
    "$ cd geop\n",
    "```\n",
    "\n",
    "You will find the i-PI input file. Have a look at the `input.xml` file and see if you can understand its various parts. / \n",
    "\n",
    "The snippet that implements the geometry optimization feature is \n",
    "\n",
    "```xml\n",
    "    <motion mode='minimize'>\n",
    "      <optimizer mode='bfgs'>\n",
    "        <tolerances>\n",
    "          <energy> 1e-5 </energy>\n",
    "          <force> 1e-5 </force>\n",
    "          <position> 1e-5 </position>\n",
    "        </tolerances>\n",
    "      </optimizer>\n",
    "    </motion>\n",
    "```\n",
    "\n",
    "In essence, the geometry optimization is implemented as a motion class. At every step instead of performing \"dynamics\" we will simply move towards a local minimum of the PES. There are many algorithms for locally optimizing high-dimensional functions; here we use the robust [BFGS](https://en.wikipedia.org/wiki/Broyden%E2%80%93Fletcher%E2%80%93Goldfarb%E2%80%93Shanno_algorithm) method. The tolerances set thershold values for changes in the energy, positions and forces, that are sufficient to deem an optimization converged. \n"
   ]
  },
  {
   "cell_type": "markdown",
   "id": "aa68766d",
   "metadata": {},
   "source": [
    "To perform a fixed-cell geomerty optimization we follow the usual drill \n",
    "\n",
    "```sh\n",
    "$ i-pi input.xml > log.i-pi & \n",
    "```\n",
    "\n",
    "After waiting a moment (few seconds) for i-PI to set itself up, we can run the driver code that implements the effective 1D double well PES\n",
    "\n",
    "\n",
    "```sh\n",
    "$ i-pi-driver -u -h geop -m doublewell_1D & \n",
    "``"
   ]
  },
  {
   "cell_type": "markdown",
   "id": "42a19386",
   "metadata": {},
   "source": [
    "The number of steps taken for an optimization calculation depends on the system (the PES), the optimization method, and the initial configuration. Here, we initialize the system from $q = (2.0, 0.2, -0.5)$ as seen in the `init.xyz` file."
   ]
  },
  {
   "cell_type": "markdown",
   "id": "3b22c609",
   "metadata": {},
   "source": [
    "You can analyze your optimization calculation by plotting the potential energy vs steps and confirm if the potential energy has indeed converged to the set threshold!"
   ]
  },
  {
   "cell_type": "code",
   "execution_count": null,
   "id": "7f019154",
   "metadata": {},
   "outputs": [],
   "source": [
    "tutorialpath = '/home/vk380/scratch/piqm2023-tutorial/piqm2023-tutorial'\n",
    "filepath = tutorialpath + '/03-free_energy_methods/free_energy/geop/simulation.out'\n",
    "\n",
    "U = pimdmooc.read_ipi_output(filepath)['potential']\n",
    "plt.plot(U)\n",
    "plt.ylabel('Potential Energy [a.u.]')\n",
    "plt.xlabel('# steps')\n",
    "plt.show()"
   ]
  },
  {
   "cell_type": "markdown",
   "id": "59a32b7e",
   "metadata": {},
   "source": [
    "The final frame of the `simulation.pos_0.xyz` file gives the optimized position. Can you check, using the `PES` function, if the system is indeed in its local minimum?"
   ]
  },
  {
   "cell_type": "markdown",
   "id": "0772d866",
   "metadata": {},
   "source": [
    "#### STEP 2: HARMONIC CALCULATION"
   ]
  },
  {
   "cell_type": "markdown",
   "id": "7ad0575d",
   "metadata": {},
   "source": [
    "To compute the system's Hessian we will use the vibrations feature of i-PI. Go back to the `free_energy` directory and then into the `harm` directory. \n",
    "\n",
    "```sh\n",
    "$ cd harm\n",
    "```\n",
    "\n",
    "Go through the `input.xml` file.  \n",
    "\n",
    "The snippet that implements the vibrations feature is \n",
    "\n",
    "```xml\n",
    "    <motion mode='vibrations'>\n",
    "      <vibrations mode='fd'>\n",
    "        <pos_shift> 0.001 </pos_shift>\n",
    "        <energy_shift> 0.001 </energy_shift>\n",
    "        <prefix> phonons </prefix>\n",
    "        <asr> none </asr>\n",
    "      </vibrations>\n",
    "    </motion>\n",
    "```\n",
    "\n",
    "The system's Hessian is computed using the finite difference method. This approach approximates the ij-th element of the Hessian in terms of the forces acting at infinitisemally displaced positions around the minimum\n",
    "\n",
    "$\\frac{\\partial^2 V}{\\partial q^2}_{ij} \\approx - \\frac{1}{2 \\epsilon}\\left(\\left.f_{i}\\right|_{q_{j} + \\epsilon} - \\left.f_{i}\\right|_{q_{j} - \\epsilon} \\right)$\n",
    "\n",
    "At every step instead of performing \"dynamics\", we will displace a degree of freedom along $\\pm \\epsilon$ and estimate one row of the Hessian. `pos_shift` sets the value of $\\epsilon$ while `asr`zeros out the blocks of the Hessian due to continuous symmetries (translations or rotations for solids or clusters). In this example, we set this option to `none` as our system doesn't possess any continuous symmetries."
   ]
  },
  {
   "cell_type": "markdown",
   "id": "edaa0779",
   "metadata": {},
   "source": [
    "The initial configuration for this calculation should correspond to an opitimized position. You can obtain this from the last frame of the geop trajectory. \n",
    "\n",
    "```sh\n",
    "$ tail -3 ../geop/simulation.pos_0.xyz > init.xyz\n",
    "```"
   ]
  },
  {
   "cell_type": "markdown",
   "id": "ba5077a3",
   "metadata": {},
   "source": [
    "Run the i-PI phonons calculations as before, i.e.,\n",
    "\n",
    "```sh\n",
    "$ i-pi input.xml > log.i-pi & \n",
    "```\n",
    "\n",
    "After waiting a moment (few seconds) run the driver code\n",
    "\n",
    "\n",
    "```sh\n",
    "$ i-pi-driver -u -h vib -m doublewell_1D & \n",
    "```"
   ]
  },
  {
   "cell_type": "markdown",
   "id": "351602d8",
   "metadata": {},
   "source": [
    "The Hessian can be recovered from the `simulation.phonons.hess`file. \n",
    "You can use the snippet below to plot the harmonic approximation to the PES"
   ]
  },
  {
   "cell_type": "code",
   "execution_count": null,
   "id": "1329aed7",
   "metadata": {},
   "outputs": [],
   "source": [
    "filepath = tutorialpath + '/03-free_energy_methods/free_energy/harm/simulation.phonons.hess'\n",
    "hess = np.loadtxt(filepath, comments='#')\n",
    "\n",
    "filepath = tutorialpath + '/03-free_energy_methods/free_energy/harm/init.xyz'\n",
    "q0 = pimdmooc.read_ipi_xyz(filepath)[0].positions[0] / 0.529177\n",
    "\n",
    "filepath = tutorialpath + '/03-free_energy_methods/free_energy/harm/simulation.out'\n",
    "V0 = np.loadtxt(filepath, ndmin=2)[0,1]\n",
    "\n",
    "# hess = np.loadtxt(filepath)\n",
    "\n",
    "def PES_harm(x,y,z):\n",
    "    \"\"\"\n",
    "    Harmonic approximation to the PES from Ref.[1] around a local minimum. Note this function is only valid for the example!\n",
    "    \"\"\"\n",
    "    \n",
    "    return V0 + hess[0,0] * (x - q0[0])**2 / 2 + hess[1,1] * (y - q0[1])**2 / 2 + hess[2,2] * (z - q0[2])**2 / 2\n"
   ]
  },
  {
   "cell_type": "code",
   "execution_count": null,
   "id": "770d6994",
   "metadata": {},
   "outputs": [],
   "source": [
    "x = np.linspace(-3,3,21)\n",
    "y = np.linspace(-0.5,0.5,21)\n",
    "\n",
    "X, Y = np.meshgrid(x, y)\n",
    "\n",
    "contour_levels = [np.min(Z) + 0.00095004347 * i for i in range(12)]\n",
    "\n",
    "plt.title(r'$V(x,y,0)$')\n",
    "plt.xlabel(r'$x$ [a.u.]')\n",
    "plt.ylabel(r'$y$ [a.u.]')\n",
    "plt.contour(X, Y, PES(X, Y, 0), levels=contour_levels)\n",
    "plt.show()\n",
    "\n",
    "plt.title(r'$V^{\\mathrm{harm}}(x,y,0)$')\n",
    "plt.xlabel(r'$x$ [a.u.]')\n",
    "plt.ylabel(r'$y$ [a.u.]')\n",
    "plt.contour(X, Y, PES_harm(X, Y, 0), levels=contour_levels)\n",
    "plt.show()\n"
   ]
  },
  {
   "cell_type": "markdown",
   "id": "07af67c2",
   "metadata": {},
   "source": [
    "The harmonic calculation also  gives us the frequency modes from the dynamical matrix (mass scaled hessian)!"
   ]
  },
  {
   "cell_type": "code",
   "execution_count": null,
   "id": "f2649d62",
   "metadata": {},
   "outputs": [],
   "source": [
    "filepath = tutorialpath + '/03-free_energy_methods/free_energy/harm/simulation.phonons.eigval'\n",
    "\n",
    "W2s = np.loadtxt(filepath)\n",
    "print ('Harmonic Frequencies')\n",
    "for w2 in W2s:\n",
    "    print('%10.5f cm^-1'% (w2**0.5 * 219474))"
   ]
  },
  {
   "cell_type": "code",
   "execution_count": null,
   "id": "43f0b40f",
   "metadata": {},
   "outputs": [],
   "source": [
    "def quantum_harmonic_free_energy(Ws, T):\n",
    "    \"\"\"\n",
    "    Receives a list of frequencies in atomic units and the temperature in Kelvin. Returns the system's harmonic free energy.\n",
    "    \"\"\"\n",
    "    \n",
    "    hbar = 1\n",
    "    kB = 3.1668116e-06\n",
    "    \n",
    "    return V0 + -kB * T * np.log(1 - np.exp(-hbar * Ws / (kB * T))).sum() "
   ]
  },
  {
   "cell_type": "markdown",
   "id": "5882d3cd",
   "metadata": {},
   "source": [
    " These frequencies can be used to calculate the quantum harmonic free energy of the system -- an approxiamtion to its true free energy!"
   ]
  },
  {
   "cell_type": "code",
   "execution_count": null,
   "id": "59a8782f",
   "metadata": {},
   "outputs": [],
   "source": [
    "print ('Quantum Harmonic free energy: %15.8f [a.u.]'% (quantum_harmonic_free_energy(W2s**0.5, 300)))\n",
    "print ('Quantum Harmonic free energy: %15.8f [eV]'% (quantum_harmonic_free_energy(W2s**0.5, 300) * 27.211386))\n",
    "print ('Quantum Harmonic  free energy: %15.8f [kJ/mol]' % (quantum_harmonic_free_energy(W2s**0.5, 300) * 2625.4996))"
   ]
  },
  {
   "cell_type": "markdown",
   "id": "5427efac",
   "metadata": {},
   "source": [
    "The exact free energy for the system when localized in one of the wells is still around 0.65 kJ/mol off w.r.t the harmonic limit. "
   ]
  },
  {
   "cell_type": "code",
   "execution_count": null,
   "id": "a061a2f0",
   "metadata": {},
   "outputs": [],
   "source": [
    "F = -7.53132797e-05 + quantum_harmonic_free_energy(W2s**0.5, 300)\n",
    "\n",
    "print ('Exact Quantum free energy: %15.8f [a.u.]'% (F))\n",
    "print ('Exact Quantum free energy: %15.8f [eV]'% (F * 27.211386))\n",
    "print ('Exact Quantum free energy: %15.8f [kJ/mol]' % (F * 2625.4996))"
   ]
  },
  {
   "cell_type": "markdown",
   "id": "cfc2e942",
   "metadata": {},
   "source": [
    "### HARMONIC TO ANHARMONIC"
   ]
  },
  {
   "cell_type": "markdown",
   "id": "72603494",
   "metadata": {},
   "source": [
    "Calculating free energies beyond the harmonic approximation is non-trivial. There exist a familty of methods that can  solve the vibrational Schroedinger Equation by approximating the anharmonic component of the PES, yielding an amharmonic free energy. While highly effective for low-dimensional or mildly anharmonic systems, the method of resort for *numerically-exact amharmonic free energies* of solid and clusters is the thermodynamic integration method combined with the path-integral method (see Refs.[2], [3], [4] for applications ). "
   ]
  },
  {
   "cell_type": "markdown",
   "id": "e0f71d5b",
   "metadata": {},
   "source": [
    "The central idea is to reversibly change the potential from harmonic to anharmonic by defining a $\\lambda$-dependent Hamiltonian \n",
    "\n",
    "$\\hat{H}(\\lambda) = \\hat{T} + \\lambda \\hat{V}^{\\text{harm}}  + (1 - \\lambda) \\hat{V}$\n",
    "\n",
    "\n",
    "The  the anharmonic free energy is calculated as the reversible work done along the fictitious path in $\\lambda$-space\n",
    "\n",
    "\n",
    "$F = F^{\\text{harm}} + \\left< \\hat{V} - \\hat{V}^{\\text{harm}} \\right>_{\\lambda}$\n",
    "\n",
    "\n",
    "where $ \\left< \\hat{O} \\right>_{\\lambda}$ is the path-integral estimator for a positon dependent operator for $\\hat{H}(\\lambda)$.\n",
    "\n",
    "\n",
    "\n"
   ]
  },
  {
   "cell_type": "markdown",
   "id": "85a8dcd1",
   "metadata": {},
   "source": [
    "#### STEP 3: HARMONIC TO ANHARMONIC THERMODYNAMIC INTEGRATION"
   ]
  },
  {
   "cell_type": "markdown",
   "id": "1244167f",
   "metadata": {},
   "source": [
    "A full quantum thermodynamic integration calculation requires knowledge of the harmonic reference. Luckily we have just performed these calculations! "
   ]
  },
  {
   "cell_type": "markdown",
   "id": "c75ea15a",
   "metadata": {},
   "source": [
    "##### CLASSICAL STAT MECH"
   ]
  },
  {
   "cell_type": "markdown",
   "id": "243d127d",
   "metadata": {},
   "source": [
    "Let's first compute the anharmonic free energy difference within the classical approximation.\n",
    "\n",
    "\n",
    "Let's go to the `cti` (classical thermodynamic integration) directory in `free_energies`. \n",
    "\n",
    "```sh\n",
    "$ cd cti\n",
    "```\n",
    "\n",
    "The directory contains a sample `input.xml` file that defines a \"mixed\" $\\lambda$-dependent Hamiltonian. Go through it carefully. \n",
    "\n",
    "This i-PI calculation includes two \"forcefield classes\" \n",
    "\n",
    "```xml\n",
    "\n",
    "   <!-->  defines the anharmonic PES <-->\n",
    "   <ffsocket name='driver' mode='unix' matching='any' pbc='false'>\n",
    "       <address> f0 </address>\n",
    "       <latency> 1e-3 </latency>\n",
    "   </ffsocket>\n",
    "\n",
    "```\n",
    "\n",
    "a standard socket \n",
    "\n",
    "and \n",
    "\n",
    "```xml\n",
    "   <!-->  defines the harmonic PES <-->\n",
    "   <ffdebye name='debye'>\n",
    "           <hessian shape='(3,3)' mode='file'> <!-->  relative path to the system's hessian <--> </hessian>\n",
    "           <x_reference mode='file'> <!--> relative path to a rile containing the optimized positon vector <-->   </x_reference>\n",
    "           <v_reference> <!-->  the value of the PES at its local minimum <-->   </v_reference>\n",
    "   </ffdebye>\n",
    "\n",
    "```\n",
    "\n",
    "an intrinsic harmonic forcefield that builds the harmonic potential. This requires $q_0$, $V(q_0)$ and the full Hessian. \n",
    "\n",
    "You can create a symlink to the Hessian using\n",
    "\n",
    "```sh\n",
    "$ ln -s ../harm/simulation.phonons.hess hessian.data\n",
    "```\n",
    "\n",
    "create a ref file containing the positions for the `<x_reference>`  tag using the following\n",
    "\n",
    "```sh\n",
    "$ awk '{print $2, $3, $4}' ../harm/init.xyz  | tail -1 | tee ref.data\n",
    "```\n",
    "\n",
    "and get `<v_reference>` as \n",
    "\n",
    "```sh\n",
    "$ awk '{print $2}' ../harm/simulation.out  | tail -1 \n",
    "```\n",
    "\n",
    "\n",
    "To model a Hamiltonian with a linear combination of the harmonic and the anharmonic potential you can define the weights for the force components as\n",
    "\n",
    "```xml\n",
    "      <forces>\n",
    "         <force forcefield='debye' weight=''> </force>  <!-->  set this to lambda <-->\n",
    "         <force forcefield='driver' weight=''> </force> <!-->  set this to 1 - lambda <-->\n",
    "      </forces>\n",
    "```\n",
    "\n",
    "You can print out the harmonic and the anharmonic components as a `<property>` in the output class\n",
    "\n",
    "```xml \n",
    "<properties filename='pots' stride='10' flush='10'> [ pot_component_raw(0), pot_component_raw(1) ] </properties>\n",
    "```\n"
   ]
  },
  {
   "cell_type": "markdown",
   "id": "2ba9f05b",
   "metadata": {},
   "source": [
    " "
   ]
  },
  {
   "cell_type": "markdown",
   "id": "497f45d0",
   "metadata": {},
   "source": [
    "A typical TI calculation requires multiple simulations, one for each lambda and a postprocessing step to integrate the free energy difference. In this example, we use six linearly-spaced points i.e. $ \\lambda \\in [0.0, 0.2, 0.4, 0.6, 0.8, 1.0]$ and create a directory for each calculation. You can checkout the input file in a directory to get see how the calculaion is setup!"
   ]
  },
  {
   "cell_type": "markdown",
   "id": "992ae1ca",
   "metadata": {},
   "source": [
    "You can run i-PI simulataneous in these directories using\n",
    "\n",
    "```sh\n",
    "for x in */; do cd ${x}; i-pi input.xml > log.i-pi &  cd ..; done\n",
    "```\n",
    "\n",
    "and after waiting for a few seconds run the driver codes with different addresses\n",
    "\n",
    "```sh\n",
    "for x in {0..10..2}; do i-pi-driver -u -h f${x} -m doublewell_1D &  done\n",
    "```\n",
    "\n",
    "When the calculations have finished, you can use the following snippet to analyze the mean force along the path and estimat its integral!"
   ]
  },
  {
   "cell_type": "code",
   "execution_count": null,
   "id": "050fcd57",
   "metadata": {},
   "outputs": [],
   "source": [
    "du_list = []\n",
    "duerr_list = []\n",
    "\n",
    "dir_list = ['0.0', '0.2', '0.4', '0.6', '0.8', '1.0']\n",
    "l_list = [float(l) for l in dir_list]\n",
    "\n",
    "for x in ['0.0', '0.2', '0.4', '0.6', '0.8', '1.0']:\n",
    "    \n",
    "    filename= tutorialpath + '/03-free_energy_methods/free_energy/cti'\n",
    "    filename += '/' + x + '/simulation.pots'\n",
    "    data = pimdmooc.read_ipi_output(filename)\n",
    "    \n",
    "    du = data['pot_component_raw(1)'] - data['pot_component_raw(0)']\n",
    "    du_list.append(du.mean())\n",
    "    duerr_list.append(du.std() / len(du)**0.5)\n",
    "    \n",
    "    \n",
    "du_list = np.asarray(du_list)\n",
    "duerr_list = np.asarray(duerr_list)\n",
    "\n",
    "plt.plot(l_list, (du_list) * 2625.4996, color='blue')\n",
    "plt.fill_between(l_list, y1=(du_list - duerr_list)  * 2625.4996, y2=(du_list + duerr_list)  * 2625.4996, color='blue', alpha=0.2)\n",
    "plt.title('Classical thermodynamic integration')\n",
    "plt.xlabel(r'$\\lambda$')\n",
    "plt.ylabel(r'$\\left<U - U^{\\mathrm{harm}}\\right>_{\\lambda}$ [kJ/mol]')\n",
    "plt.show()"
   ]
  },
  {
   "cell_type": "markdown",
   "id": "9dc0d6a2",
   "metadata": {},
   "source": [
    "Since we are working within classical stat mech, we should use the classical harmonic reference to estimate the classical anharmonic free energy."
   ]
  },
  {
   "cell_type": "code",
   "execution_count": null,
   "id": "ad4bbc18",
   "metadata": {},
   "outputs": [],
   "source": [
    "def classical_harmonic_free_energy(Ws, T):\n",
    "    \"\"\"\n",
    "    Receives a list of frequencies in atomic units and the temperature in Kelvin. Returns the system's harmonic free energy.\n",
    "    \"\"\"\n",
    "    \n",
    "    hbar = 1\n",
    "    kB = 3.1668116e-06\n",
    "    \n",
    "    return V0 + kB * T * np.log(hbar * Ws / (kB * T)).sum() "
   ]
  },
  {
   "cell_type": "code",
   "execution_count": null,
   "id": "c04a46e3",
   "metadata": {},
   "outputs": [],
   "source": [
    "df, dferr = np.trapz(x=l_list, y=du_list), np.trapz(x=l_list, y=duerr_list**2)**0.5\n",
    "\n",
    "F = classical_harmonic_free_energy(W2s**0.5, 300)\n",
    "\n",
    "print ('Classical harmonic free energy: %15.8f [a.u.]'% (F))\n",
    "print ('Classical harmonic free energy: %15.8f [eV]'% (F * 27.211386))\n",
    "print ('Classical harmonic free energy: %15.8f [kJ/mol]' % (F * 2625.4996))\n",
    "print ('')\n",
    "\n",
    "F = classical_harmonic_free_energy(W2s**0.5, 300) + df\n",
    "Ferr = dferr\n",
    "\n",
    "\n",
    "print ('Classical anharmonic free energy: %15.8f +/- %15.8f [a.u.]'% (F, Ferr))\n",
    "print ('Classical anharmonic free energy: %15.8f +/- %15.8f [eV]'% (F * 27.211386, Ferr * 27.211386))\n",
    "print ('Classical anharmonic free energy: %15.8f +/- %15.8f [kJ/mol]' % (F * 2625.4996, Ferr * 2625.4996))\n",
    "print ('')\n",
    "F = -7.53132797e-05 + quantum_harmonic_free_energy(W2s**0.5, 300)\n",
    "\n",
    "print ('Exact free energy: %15.8f [a.u.]'% (F))\n",
    "print ('Exact free energy: %15.8f [eV]'% (F * 27.211386))\n",
    "print ('Exact free energy: %15.8f [kJ/mol]' % (F * 2625.4996))"
   ]
  },
  {
   "cell_type": "markdown",
   "id": "e1d92fee",
   "metadata": {},
   "source": [
    "###### QUANTUM STAT MECH"
   ]
  },
  {
   "cell_type": "markdown",
   "id": "24c54b81",
   "metadata": {},
   "source": [
    "You can go to the `qti` directory in `free_energy`. The only difference between a classical and a quantum thermodynamic calculation setup is the number of replicas! Checkout the `input.xml` file. We will need 32 replicas to converge the free energy difference.\n",
    "\n",
    "\n",
    "```xml\n",
    "      <initialize nbeads='32'>\n",
    "         <file mode='xyz'> ../init.xyz </file>\n",
    "         <velocities mode='thermal' units='kelvin'> 300 </velocities>\n",
    "      </initialize>\n",
    "```\n",
    "\n",
    "You can do the same as in for CTI to setup the hessian, $q_0$, and $V(q_0)$. And run these simulations. The analysis can be done using the snippets below. \n"
   ]
  },
  {
   "cell_type": "code",
   "execution_count": null,
   "id": "bc697872",
   "metadata": {},
   "outputs": [],
   "source": [
    "du_list = []\n",
    "duerr_list = []\n",
    "\n",
    "dir_list = ['0.0', '0.2', '0.4', '0.6', '0.8', '1.0']\n",
    "l_list = [float(l) for l in dir_list]\n",
    "\n",
    "for x in ['0.0', '0.2', '0.4', '0.6', '0.8', '1.0']:\n",
    "    \n",
    "    filename= tutorialpath + '/03-free_energy_methods/free_energy/qti'\n",
    "    filename += '/' + x + '/simulation.pots'\n",
    "    data = pimdmooc.read_ipi_output(filename)\n",
    "    \n",
    "    du = data['pot_component_raw(1)'] - data['pot_component_raw(0)']\n",
    "    du_list.append(du.mean())\n",
    "    duerr_list.append(du.std() / len(du)**0.5)\n",
    "    \n",
    "    \n",
    "du_list = np.asarray(du_list)\n",
    "duerr_list = np.asarray(duerr_list)\n",
    "\n",
    "plt.plot(l_list, (du_list) * 2625.4996, color='blue')\n",
    "plt.fill_between(l_list, y1=(du_list - duerr_list)  * 2625.4996, y2=(du_list + duerr_list)  * 2625.4996, color='blue', alpha=0.2)\n",
    "plt.title('Quantum  thermodynamic integration')\n",
    "plt.xlabel(r'$\\lambda$')\n",
    "plt.ylabel(r'$\\left<U - U^{\\mathrm{harm}}\\right>_{\\lambda}$ [kJ/mol]')"
   ]
  },
  {
   "cell_type": "code",
   "execution_count": null,
   "id": "a1e76a88",
   "metadata": {},
   "outputs": [],
   "source": [
    "df, dferr = np.trapz(x=l_list, y=du_list), np.trapz(x=l_list, y=duerr_list**2)**0.5\n",
    "\n",
    "F = quantum_harmonic_free_energy(W2s**0.5, 300)\n",
    "\n",
    "print ('Quantum harmonic free energy: %15.8f [a.u.]'% (F))\n",
    "print ('Quantum harmonic free energy: %15.8f [eV]'% (F * 27.211386))\n",
    "print ('Quantum harmonic free energy: %15.8f [kJ/mol]' % (F * 2625.4996))\n",
    "print ('')\n",
    "\n",
    "F = quantum_harmonic_free_energy(W2s**0.5, 300) + df\n",
    "Ferr = dferr\n",
    "\n",
    "\n",
    "print ('Quantum anharmonic free energy: %15.8f +/- %15.8f [a.u.]'% (F, Ferr))\n",
    "print ('Quantum anharmonic free energy: %15.8f +/- %15.8f [eV]'% (F * 27.211386, Ferr * 27.211386))\n",
    "print ('Quantum anharmonic free energy: %15.8f +/- %15.8f [kJ/mol]' % (F * 2625.4996, Ferr * 2625.4996))\n",
    "print ('')\n",
    "F = -7.53132797e-05 + quantum_harmonic_free_energy(W2s**0.5, 300)\n",
    "\n",
    "print ('Exact free energy: %15.8f [a.u.]'% (F))\n",
    "print ('Exact free energy: %15.8f [eV]'% (F * 27.211386))\n",
    "print ('Exact free energy: %15.8f [kJ/mol]' % (F * 2625.4996))"
   ]
  },
  {
   "cell_type": "markdown",
   "id": "6dcd1961",
   "metadata": {},
   "source": [
    "# 2. FREE ENERGY SURFACES USING ENHANCED SAMPLING"
   ]
  },
  {
   "cell_type": "markdown",
   "id": "54bd8a9a",
   "metadata": {},
   "source": [
    "Within metadynamics the potential energy of a system is modified by a bias such that it disfavours sampling already explored regions. The bias is typically defined in the subspace of \"collective variables\" (functions of positions) which are chosen to describe the phenomenon to be enhanced. "
   ]
  },
  {
   "cell_type": "markdown",
   "id": "678bf95d",
   "metadata": {},
   "source": [
    "In this tutorial we will enhance the x-coordinate of the system to estimate the barrier to localize across the two local minima. We expect quantum nuclear effects to reduce the delocalization barrier. To implement this example we will use the interface between `i-PI` and `plumed`. \n",
    "\n",
    "Go back to the basedirectory of this tutorial and then into the `free_energy_surfaces` directory\n",
    "\n",
    "```sh\n",
    "$ cd free_energy_surfaces\n",
    "```\n",
    " \n",
    "Move into the `mtd` directory and checkout the i-PI input for a classical metadynamics simulation. The most important parts of the i-PI input are\n",
    "\n",
    "```xml\n",
    "   <ffplumed name=\"plumed\">\n",
    "         <file mode=\"xyz\">init.xyz</file>\n",
    "         <plumeddat> plumed/plumed.dat </plumeddat>\n",
    "   </ffplumed>\n",
    "```\n",
    "\n",
    "which creates a forcefield class with forces from plumed. These forces act along order parameters defined in the `plumed/plumed.dat file`. The `init.xyz` is needed to initialize plumed. \n",
    "\n",
    "```xml\n",
    "      <ensemble>\n",
    "         <temperature units='kelvin'> 300 </temperature>\n",
    "         <bias>\n",
    "            <force forcefield=\"plumed\" nbeads=\"1\"></force>\n",
    "         </bias>\n",
    "         ...\n",
    "```\n",
    "\n",
    "ensures that the bias is not defined on the all the replicas but just the centroid. \n",
    "\n",
    "```xml\n",
    "   <smotion mode=\"metad\">\n",
    "     <metad> <metaff> [ plumed ] </metaff> </metad>\n",
    "   </smotion>\n",
    "```\n",
    "and finally, the `super motion`class implements enhanced sampling after at the end of every simulation step. "
   ]
  },
  {
   "cell_type": "markdown",
   "id": "8e69a0bf",
   "metadata": {},
   "source": [
    "#### STEP 1: Unbiased simulation"
   ]
  },
  {
   "cell_type": "markdown",
   "id": "6f83be7e",
   "metadata": {},
   "source": [
    "Let's first perform unbias MD and PIMD simulations and check the probabilty distribution or the free energy surface for the x-coordinate. Go to the `md` and `pimd` directories and run the simulations. Use the snippet below to print out the free energy profiles along the x-coordinate. You will see that the system doesn't diffuse between the two minima."
   ]
  },
  {
   "cell_type": "code",
   "execution_count": null,
   "id": "769fa8b6",
   "metadata": {},
   "outputs": [],
   "source": [
    "plt.title('FREE ENERGY PROFILES WITH AND WITHOUT \\n QUANTUM NUCLEAR EFFECTS')\n",
    "\n",
    "kBT = 300.0 * 8.314e-3\n",
    "\n",
    "filename = tutorialpath + '/03-free_energy_methods/free_energy_surfaces/md/simulation.xc.xyz'\n",
    "s = [atoms.positions[0,0] for atoms in pimdmooc.read_ipi_xyz(filename)]\n",
    "f, s = np.histogram(s, 51, (0,3), density=True)\n",
    "f = -kBT * np.log(f)\n",
    "f = f - np.min(f)\n",
    "\n",
    "plt.plot(s[1:], f, label='classical')\n",
    "\n",
    "filename = tutorialpath + '/03-free_energy_methods/free_energy_surfaces/pimd/simulation.xc.xyz'\n",
    "s = [atoms.positions[0,0] for atoms in pimdmooc.read_ipi_xyz(filename)]\n",
    "f, s = np.histogram(s, 51, (0,3), density=True)\n",
    "f = -kBT * np.log(f)\n",
    "f = f - np.min(f)\n",
    "\n",
    "plt.plot(s[1:], f, label='quantum')\n",
    "\n",
    "plt.ylabel(r'F(x) [kJ/mol]')\n",
    "plt.xlabel(r'x [$\\AA{}$]')\n",
    "plt.grid(ls='--')\n",
    "plt.xlim(-1.48,1.48)\n",
    "plt.legend()\n",
    "\n",
    "plt.show()"
   ]
  },
  {
   "cell_type": "markdown",
   "id": "37ee708a",
   "metadata": {},
   "source": [
    "Now let's perform short metadynamics simulations with and without quantum nuclear effects. Go to the `mtd` and `pimtd` directories and run the simulations. Remember, the only difference between a classical and path-integral metadynamics calculation is the number of replicas! Note that to perform simulations with plumed, make sure to source the `sourceme.sh` file in the plumed2 base directory. \n",
    "\n",
    "```sh\n",
    "$ source PATH2PLUMED2/sourceme.sh\n",
    "```"
   ]
  },
  {
   "cell_type": "markdown",
   "id": "81700995",
   "metadata": {},
   "source": [
    "To analyze the metadynamics simulations to obatin the free energy profiles you can use the following commands in the `mtd` and `pimtd` directories.\n",
    "\n",
    "```sh\n",
    "$ plumed sum_hills --min -0.30 --max 0.30 --bin 101 --hills plumed/HILLS > fes.dat\n",
    "```"
   ]
  },
  {
   "cell_type": "code",
   "execution_count": null,
   "id": "6990eb06",
   "metadata": {},
   "outputs": [],
   "source": [
    "plt.title('FREE ENERGY PROFILES WITH AND WITHOUT \\n QUANTUM NUCLEAR EFFECTS')\n",
    "\n",
    "\n",
    "filename = tutorialpath + '/03-free_energy_methods/free_energy_surfaces/mtd/fes.dat'\n",
    "s, f = np.loadtxt(filename, usecols=(0,1)).T\n",
    "s = s * 10.0 \n",
    "f = (f + f[::-1]) / 2 \n",
    "f = f - np.min(f)\n",
    "plt.plot(s, f, label='classical centroid [enhanced]')\n",
    "plt.legend(frameon=False)\n",
    "\n",
    "\n",
    "filename = tutorialpath + '/03-free_energy_methods/free_energy_surfaces/pimtd/fes.dat'\n",
    "s, f = np.loadtxt(filename, usecols=(0,1)).T\n",
    "s = s * 10.0 \n",
    "f = (f + f[::-1]) / 2 \n",
    "f = f - np.min(f)\n",
    "plt.plot(s, f, label='quantum centroid [enhanced]')\n",
    "plt.legend(frameon=False)\n",
    "\n",
    "plt.ylabel(r'F(x) [kJ/mol]')\n",
    "plt.xlabel(r'x [$\\AA{}$]')\n",
    "plt.grid(ls='--')\n",
    "plt.xlim(-1.48,1.48)\n",
    "plt.legend()\n",
    "plt.show()"
   ]
  },
  {
   "cell_type": "markdown",
   "id": "4f2da28f",
   "metadata": {},
   "source": [
    "Remember this is the centroid free enrgy barrier, not the real quantum profile. But it already captures a reduction in the barrier. To go from the centroid to the full quantum free energy you can read Refs. [5] and [6]."
   ]
  },
  {
   "cell_type": "markdown",
   "id": "e05968a1",
   "metadata": {},
   "source": [
    "# REFERENCES"
   ]
  },
  {
   "cell_type": "markdown",
   "id": "4db323ff",
   "metadata": {},
   "source": [
    "[1] Litman, Y., Pós, E. S., Box, C. L., Martinazzo, R., Maurer, R. J., & Rossi, M. (2022). Dissipative tunneling rates through the incorporation of first-principles electronic friction in instanton rate theory. II. Benchmarks and applications. The Journal of Chemical Physics, 156(19), 194107. https://doi.org/10.1063/5.0088400\n",
    "\n",
    "[2] Rossi, M., Gasparotto, P., & Ceriotti, M. (2016). Anharmonic and quantum fluctuations in molecular crystals: A first-principles study of the stability of paracetamol. Physical Review Letters, 117(11), 115702. https://doi.org/10.1103/PhysRevLett.117.115702\n",
    "\n",
    "[3] Kapil, V., Engel, E., Rossi, M., & Ceriotti, M. (2019). Assessment of approximate methods for anharmonic free energies. Journal of Chemical Theory and Computation, 15(11), 5845–5857. https://doi.org/10.1021/acs.jctc.9b00596\n",
    "\n",
    "[4] Kapil, V., & Engel, E. A. (2022). A complete description of thermodynamic stabilities of molecular crystals. Proceedings of the National Academy of Sciences, 119(6), e2111769119. https://doi.org/10.1073/pnas.2111769119\n",
    "\n",
    "[5] Lamaire, A., Cools-Ceuppens, M., Bocus, M., Verstraelen, T., & Van Speybroeck, V. (2023). Quantum free energy profiles for molecular proton transfers. Journal of Chemical Theory and Computation, 19(1), 18–24. https://doi.org/10.1021/acs.jctc.2c00874\n",
    "\n",
    "[5] Cendagorta, J. R., Shen, H., Bačić, Z., & Tuckerman, M. E. (2021). Enhanced sampling path integral methods using neural network potential energy surfaces with application to diffusion in hydrogen hydrates. Advanced Theory and Simulations, 4(4), 2000258. https://doi.org/10.1002/adts.202000258"
   ]
  }
 ],
 "metadata": {
  "kernelspec": {
   "display_name": "Python 3 (ipykernel)",
   "language": "python",
   "name": "python3"
  },
  "language_info": {
   "codemirror_mode": {
    "name": "ipython",
    "version": 3
   },
   "file_extension": ".py",
   "mimetype": "text/x-python",
   "name": "python",
   "nbconvert_exporter": "python",
   "pygments_lexer": "ipython3",
   "version": "3.8.16"
  }
 },
 "nbformat": 4,
 "nbformat_minor": 5
}
