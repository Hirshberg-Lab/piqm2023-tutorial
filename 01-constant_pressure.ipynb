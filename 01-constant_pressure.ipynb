{
 "cells": [
  {
   "cell_type": "markdown",
   "metadata": {},
   "source": [
    "<p style=\"font-size:32px; font-weight: bolder; text-align: center\"> Constant-pressure (PI)MD </p>\n",
    "<p style=\"text-align: center\"><i> authored by: <a href=\"mailto:michele.ceriotti@gmail.com\"> Michele Ceriotti </a></i></p>"
   ]
  },
  {
   "cell_type": "markdown",
   "metadata": {},
   "source": [
    "This notebook provides a demonstration to performing constant-pressure simulations using [i-PI](https://ipi-code.org), and serves also as a brief re-cap of how to use the code. You can run this through the notebook, or follow the instructions on the command-line, coming back to the notebook for visualizing the results.  "
   ]
  },
  {
   "cell_type": "code",
   "execution_count": 51,
   "metadata": {},
   "outputs": [],
   "source": [
    "import numpy as np\n",
    "import matplotlib.pyplot as plt\n",
    "import ase, ase.io\n",
    "import chemiscope\n",
    "import pimdmooc\n",
    "import warnings\n",
    "pimdmooc.add_ipi_paths()"
   ]
  },
  {
   "cell_type": "markdown",
   "metadata": {},
   "source": [
    "<a id=\"setting-up\"> </a>"
   ]
  },
  {
   "cell_type": "markdown",
   "metadata": {},
   "source": [
    "# Setting up a NPT calculation"
   ]
  },
  {
   "cell_type": "markdown",
   "metadata": {},
   "source": [
    "We consider a (classical) harmonic oscillator with frequency $\\omega$ and unit mass, in the constant-temperature ensemble at inverse temperature $\\beta$. To keep things simple, we will use the para-hydrogen potential [I. Silvera and V. Goldman, J. Chem. Phys., 69, 4209 (1978)](https://doi.org/10.1063/1.437103) implemented in the FORTRAN driver distributed with i-PI."
   ]
  },
  {
   "cell_type": "markdown",
   "metadata": {},
   "source": [
    "## Input files"
   ]
  },
  {
   "cell_type": "markdown",
   "metadata": {},
   "source": [
    "Inputs to run molecular dynamics in the constant-pressure ensemble can be found in the `01-constant-pressure` folder. You will find a `para-h2.pdb` file that contains the starting positions of the atoms, and `npt-md.xml`, the actual i-PI input. Let's have a look at them."
   ]
  },
  {
   "cell_type": "markdown",
   "metadata": {},
   "source": [
    "The first section of the file defines the logging level (`verbosity='medium'`), the content of output files (i-PI does not output unless required) and the total number of simulation steps that should be run"
   ]
  },
  {
   "cell_type": "code",
   "execution_count": 7,
   "metadata": {},
   "outputs": [
    {
     "name": "stdout",
     "output_type": "stream",
     "text": [
      "<simulation verbosity='medium'>\n",
      "  <output prefix='ph2-npt-md'>\n",
      "    <properties filename='md' stride='10'> [step, time{picosecond}, conserved{kelvin}, temperature{kelvin}, potential{kelvin}, kinetic_md{kelvin}, pressure_md{gigapascal}, volume{angstrom3}] </properties>\n",
      "    <trajectory filename='pos' stride='100' format='pdb' cell_units='angstrom'> positions{angstrom} </trajectory>\n",
      "    <checkpoint filename='checkpoint' stride='1000' overwrite='True'/>\n",
      "  </output>\n",
      "  <total_steps> 5000 </total_steps>\n"
     ]
    }
   ],
   "source": [
    "!sed -n '1,7p' 01-constant_pressure/npt-md.xml"
   ]
  },
  {
   "cell_type": "markdown",
   "metadata": {},
   "source": [
    "Next comes the definition of the forcefield. In this case (the most common in i-PI) we use a socket to communicate with an external driver. The `<address>` tag specifies the socket name (in this case a UNIX domain socket, it would be the IP or hostname in the case of a TCP/IP socket), while the `name` attribute specifies how this forcefield will be referred to when defining the actual physical interactions. "
   ]
  },
  {
   "cell_type": "code",
   "execution_count": 9,
   "metadata": {},
   "outputs": [
    {
     "name": "stdout",
     "output_type": "stream",
     "text": [
      "  <ffsocket mode='unix' name='ph2-ff'>\n",
      "    <address> ph2-driver</address>\n",
      "  </ffsocket>\n"
     ]
    }
   ],
   "source": [
    "!sed -n '8,10p' 01-constant_pressure/npt-md.xml"
   ]
  },
  {
   "cell_type": "markdown",
   "metadata": {},
   "source": [
    "The `<system>` tag defines everything that is system-related. `<initialize>` specifies where to fetch the initial atomic positions and cell size, while `<velocities>` instructs i-PI on how to initialize the particle momenta. Note that we have to specify that the temperature is given in kelvin, as i-PI assumes otherwise that it is provided in atomic units.\n",
    "\n",
    "`<forces>` specifies how to construct interactions. In this case, we simply fetch them from the single forcefield we have defined, but we shall see how more complicated setups can be realized. \n",
    "Finally, `<ensemble>` defines the thermodynamic boundary conditions: in this case, temperature and pressure. "
   ]
  },
  {
   "cell_type": "code",
   "execution_count": 11,
   "metadata": {},
   "outputs": [
    {
     "name": "stdout",
     "output_type": "stream",
     "text": [
      "  <system>\n",
      "    <initialize nbeads='1'>\n",
      "      <file mode='pdb'> para-h2.pdb </file>\n",
      "      <velocities mode='thermal' units='kelvin'> 25 </velocities>\n",
      "    </initialize>\n",
      "    <forces>\n",
      "      <force forcefield='driver'/>\n",
      "    </forces>\n",
      "    <ensemble>\n",
      "      <temperature units='kelvin'> 25 </temperature>\n",
      "      <pressure units='megapascal'> 0 </pressure>\n",
      "    </ensemble>\n"
     ]
    }
   ],
   "source": [
    "!sed -n '11,22p' 01-constant_pressure/npt-md.xml"
   ]
  },
  {
   "cell_type": "markdown",
   "metadata": {},
   "source": [
    "The way the position of the atoms should be evolved is specified in the `<motion>` section. In this case, we run molecular dynamics in the `npt` ensemble, which means we also have to specify a `<thermostat>` and a `<barostat>`. We use a Langevin piston barostat, which requires its own separate thermostat. We also specify `<timestep>`, and the time constants of all methods. "
   ]
  },
  {
   "cell_type": "code",
   "execution_count": 16,
   "metadata": {},
   "outputs": [
    {
     "name": "stdout",
     "output_type": "stream",
     "text": [
      "    <motion mode='dynamics'>\n",
      "      <dynamics mode='npt'>\n",
      "        <thermostat mode='pile_g'>\n",
      "          <tau units='femtosecond'> 25 </tau>\n",
      "        </thermostat>\n",
      "        <barostat mode='isotropic'>\n",
      "          <thermostat mode='langevin'>\n",
      "            <tau units='femtosecond'> 50 </tau>\n",
      "          </thermostat>\n",
      "          <tau units='femtosecond'> 250 </tau>\n",
      "        </barostat>\n",
      "        <timestep units='femtosecond'> 1 </timestep>\n",
      "      </dynamics>\n",
      "    </motion>\n",
      "  </system>\n",
      "</simulation>\n"
     ]
    }
   ],
   "source": [
    "!sed -n '23,40p' 01-constant_pressure/npt-md.xml"
   ]
  },
  {
   "cell_type": "markdown",
   "metadata": {},
   "source": [
    "## Running simulations"
   ]
  },
  {
   "cell_type": "markdown",
   "metadata": {},
   "source": [
    "We are going to launch i-PI from here, but you could do the same opening a terminal. Note that we launch i-PI, wait a couple of second for it to start up and open a socket, and then launch `i-pi-driver` to evaluate energy and forces. We put everything in background and detach the processes from the jupyter instance, so we can continue the execution. **DON'T RE-RUN THE CELL BEFORE THE CALCULATION HAS FINISHED** to avoid conflicts and file overwriting. "
   ]
  },
  {
   "cell_type": "code",
   "execution_count": 41,
   "metadata": {},
   "outputs": [],
   "source": [
    "%%bash --bg\n",
    "cd 01-constant_pressure\n",
    "PYTHONUNBUFFERED=1 i-pi npt-md.xml &> log &\n",
    "sleep 2\n",
    "i-pi-driver -u -a ph2-driver -m sg -o 15 -v &> log.driver"
   ]
  },
  {
   "cell_type": "markdown",
   "metadata": {},
   "source": [
    "You can view the log from here, or move on to visualize the results"
   ]
  },
  {
   "cell_type": "code",
   "execution_count": 44,
   "metadata": {},
   "outputs": [
    {
     "name": "stdout",
     "output_type": "stream",
     "text": [
      "         </thermostat>\n",
      "         <barostat mode='isotropic'>\n",
      "           <thermostat mode='langevin'>\n",
      "             <tau units='femtosecond'> 50 </tau>\n",
      "           </thermostat>\n",
      "           <tau units='femtosecond'> 250 </tau>\n",
      "         </barostat>\n",
      "         <timestep units='femtosecond'> 1 </timestep>\n",
      "       </dynamics>\n",
      "     </motion>\n",
      "   </system>\n",
      " </simulation>\n",
      "  ---  end input file content  ---\n",
      "Backup performed: ph2-npt-md.checkpoint -> #ph2-npt-md.checkpoint#4#\n",
      " @SOCKET:   Client asked for connection from . Now hand-shaking.\n",
      " @SOCKET:   Handshaking was successful. Added to the client list.\n",
      " # Average timings at MD step       0. t/step: 2.94569e-02\n",
      " # Average timings at MD step     100. t/step: 3.77482e-02\n",
      " # Average timings at MD step     200. t/step: 3.67043e-02\n",
      " # Average timings at MD step     300. t/step: 3.52678e-02\n"
     ]
    }
   ],
   "source": [
    "!tail -n 20 01-constant_pressure/log"
   ]
  },
  {
   "cell_type": "markdown",
   "metadata": {},
   "source": [
    "## Visualizing and analyzing results"
   ]
  },
  {
   "cell_type": "markdown",
   "metadata": {},
   "source": [
    "We use some utility functions to read the output of i-PI and visualize it."
   ]
  },
  {
   "cell_type": "code",
   "execution_count": 46,
   "metadata": {},
   "outputs": [],
   "source": [
    "md_output = pimdmooc.read_ipi_output('01-constant_pressure/ph2-npt-md.md')"
   ]
  },
  {
   "cell_type": "code",
   "execution_count": null,
   "metadata": {},
   "outputs": [],
   "source": []
  },
  {
   "cell_type": "code",
   "execution_count": 56,
   "metadata": {},
   "outputs": [
    {
     "data": {
      "text/plain": [
       "<matplotlib.legend.Legend at 0x7fdf6c888040>"
      ]
     },
     "execution_count": 56,
     "metadata": {},
     "output_type": "execute_result"
    },
    {
     "data": {
      "image/png": "[encoded data removed]",
      "text/plain": [
       "<Figure size 432x288 with 1 Axes>"
      ]
     },
     "metadata": {
      "needs_background": "light"
     },
     "output_type": "display_data"
    }
   ],
   "source": [
    "plt.plot(md_output[\"time\"], md_output[\"potential\"], label=\"V\")\n",
    "plt.plot(md_output[\"time\"], md_output[\"conserved\"], label=\"H\")\n",
    "plt.plot(md_output[\"time\"], md_output[\"kinetic_md\"], label=\"K\")\n",
    "plt.xlabel(\"time / ps\"); plt.ylabel(\"energy / a.u.\"); \n",
    "plt.legend()"
   ]
  },
  {
   "cell_type": "code",
   "execution_count": 52,
   "metadata": {},
   "outputs": [],
   "source": [
    "warnings.filterwarnings('ignore', '.*residuenumbers array.*')\n",
    "frames = ase.io.read('01-constant_pressure/ph2-npt-md.pos_0.pdb', \":\")"
   ]
  },
  {
   "cell_type": "code",
   "execution_count": 55,
   "metadata": {},
   "outputs": [
    {
     "data": {
      "application/vnd.jupyter.widget-view+json": {
       "model_id": "0a8b0517e37d424eb8422614659540bd",
       "version_major": 2,
       "version_minor": 0
      },
      "text/plain": [
       "StructureWidget(value='{\"meta\": {\"name\": \" \"}, \"structures\": [{\"size\": 108, \"names\": [\"H\", \"H\", \"H\", \"H\", \"H\",…"
      ]
     },
     "execution_count": 55,
     "metadata": {},
     "output_type": "execute_result"
    }
   ],
   "source": [
    "chemiscope.show(frames=frames, mode=\"structure\")"
   ]
  }
 ],
 "metadata": {
  "kernelspec": {
   "display_name": "Python 3",
   "language": "python",
   "name": "python3"
  },
  "language_info": {
   "codemirror_mode": {
    "name": "ipython",
    "version": 3
   },
   "file_extension": ".py",
   "mimetype": "text/x-python",
   "name": "python",
   "nbconvert_exporter": "python",
   "pygments_lexer": "ipython3",
   "version": "3.8.10"
  },
  "toc": {
   "base_numbering": 1,
   "nav_menu": {},
   "number_sections": true,
   "sideBar": true,
   "skip_h1_title": false,
   "title_cell": "Table of Contents",
   "title_sidebar": "Contents",
   "toc_cell": false,
   "toc_position": {
    "height": "calc(100% - 180px)",
    "left": "10px",
    "top": "150px",
    "width": "397px"
   },
   "toc_section_display": true,
   "toc_window_display": true
  }
 },
 "nbformat": 4,
 "nbformat_minor": 4
}
