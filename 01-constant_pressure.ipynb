{
 "cells": [
  {
   "cell_type": "markdown",
   "metadata": {},
   "source": [
    "<p style=\"font-size:32px; font-weight: bolder; text-align: center\"> Constant-pressure (PI)MD </p>\n",
    "<p style=\"text-align: center\"><i> authored by: <a href=\"mailto:michele.ceriotti@gmail.com\"> Michele Ceriotti </a></i></p>"
   ]
  },
  {
   "cell_type": "markdown",
   "metadata": {},
   "source": [
    "This notebook provides a demonstration of how to perform constant-pressure simulations using [i-PI](https://ipi-code.org), and serves also as a brief re-cap of how to use the code. You can run simulations through the notebook, or follow the instructions on the command-line, coming back to the notebook for visualizing the results.  "
   ]
  },
  {
   "cell_type": "code",
   "execution_count": 11,
   "metadata": {},
   "outputs": [],
   "source": [
    "import numpy as np\n",
    "import matplotlib.pyplot as plt\n",
    "import ase, ase.io\n",
    "import chemiscope\n",
    "import pimdmooc\n",
    "import warnings\n",
    "pimdmooc.add_ipi_paths()"
   ]
  },
  {
   "cell_type": "markdown",
   "metadata": {
    "tags": []
   },
   "source": [
    "# Constant-pressure simulations"
   ]
  },
  {
   "cell_type": "markdown",
   "metadata": {},
   "source": [
    "Atomistic simulations often use a _supercell_ approach to describe bulk systems: atoms are described as if they were part of an infinite system, that repeats periodically according to the lattice vectors of a very large unit cell. This is also suitable to describe disordered systems and liquids (provided this supercell is sufficiently large), but has a limitation in that it corresponds to constant volume (_NVT_) thermodynamic boundary conditions.\n",
    "\n",
    "It is often useful to perform simulations at constant pressure (_NpT_) conditions, which requires a change in the equations of motion, that allows for a change in the size (and possibly shape) of the supercell. The core ideas on how to achieve this are described in a foundational paper ([H. C. Andersen, JCP 72(4), 2384–2393 (1980)](https://doi.org/10.1063/1.439486)), that introduced both thermostatting and barostatting to molecular simulations.\n",
    "\n",
    "<div align=\"center\">\n",
    "  <img style='width:80%' src=\"figures/npt-ensemble.png\" alt=\"A schematic representation of a gas interacting with a piston that enables volume fluctuations\"/>\n",
    "</div>\n"
   ]
  },
  {
   "cell_type": "markdown",
   "metadata": {},
   "source": [
    "To do this, one needs to make the cell volume $V$ a dynamical variable, with an associated fictitious mass $\\mu$ and momentum $\\alpha$. Different types of equations of motion, derived in terms of an extended Lagrangian, can be obtained that guarantee that in the ergodic limit the system samples the constant-temperature/constant-pressure distribution $P(\\mathbf{q},\\mathbf{p})\\propto \\exp(-\\beta(E+pV))$. \n",
    "\n",
    "An example of these equations is\n",
    "\n",
    "$$\n",
    "\\begin{split}\n",
    "\\dot{q}=&\\frac{p}{m}+\\alpha q/\\mu\\\\\n",
    "\\dot{p}=&-\\partial U/\\partial q-\\alpha p/\\mu\\\\\n",
    "\\dot{V}=&3V\\alpha/\\mu\\\\\n",
    "\\dot{\\alpha}=&3\\left[V\\left(P_\\mathrm{int}-P_\\mathrm{ext}\\right)+2k_{B}T\\right]\\\\\n",
    "P_\\mathrm{int}=&\\frac{2K}{3V}-\\frac{dU}{dV}\\\\\n",
    "\\end{split}\n",
    "$$\n",
    "\n",
    "which introduces the internal pressure estimator $P_\\mathrm{int}$, depending on the kinetic energy $K$ and on the _total_ derivative of the potential with respect to the cell volume $dU/dV$."
   ]
  },
  {
   "cell_type": "markdown",
   "metadata": {},
   "source": [
    "<a id=\"setting-up\"> </a>"
   ]
  },
  {
   "cell_type": "markdown",
   "metadata": {},
   "source": [
    "# Setting up a NpT calculation"
   ]
  },
  {
   "cell_type": "markdown",
   "metadata": {},
   "source": [
    "To keep things simple, we will use the para-hydrogen potential [I. Silvera and V. Goldman, J. Chem. Phys., 69, 4209 (1978)](https://doi.org/10.1063/1.437103) implemented in the FORTRAN driver distributed with i-PI. We will perform simulations at 25 K, where quantum effects for para-hydrogen are very pronounced, but we will start performing a classical MD simulation. "
   ]
  },
  {
   "cell_type": "markdown",
   "metadata": {},
   "source": [
    "## Input files"
   ]
  },
  {
   "cell_type": "markdown",
   "metadata": {},
   "source": [
    "Inputs to run molecular dynamics in the constant-pressure ensemble can be found in the `01-constant-pressure` folder. You will find a `para-h2.pdb` file that contains the starting positions of the atoms, and `npt-md.xml`, the actual i-PI input. Let's have a look at them."
   ]
  },
  {
   "cell_type": "markdown",
   "metadata": {},
   "source": [
    "The first section of the file defines the logging level (`verbosity='medium'`), the content of output files (i-PI does not output unless required) and the total number of simulation steps that should be run"
   ]
  },
  {
   "cell_type": "code",
   "execution_count": 12,
   "metadata": {},
   "outputs": [
    {
     "name": "stdout",
     "output_type": "stream",
     "text": [
      "<simulation verbosity='medium'>\n",
      "  <output prefix='ph2-npt-md'>\n",
      "    <properties filename='md' stride='10'> [step, time{picosecond}, conserved{electronvolt}, temperature{kelvin}, potential{electronvolt}, kinetic_md{electronvolt}, pressure_md{megapascal}, volume{angstrom3}] </properties>\n",
      "    <trajectory filename='pos' stride='100' format='pdb' cell_units='angstrom'> positions{angstrom} </trajectory>\n",
      "    <checkpoint filename='checkpoint' stride='1000' overwrite='True'/>\n",
      "  </output>\n",
      "  <total_steps> 5000 </total_steps>\n"
     ]
    }
   ],
   "source": [
    "!sed -n '1,7p' 01-constant_pressure/npt-md.xml"
   ]
  },
  {
   "cell_type": "markdown",
   "metadata": {},
   "source": [
    "Next comes the definition of the forcefield. In this case (the most common in i-PI) we use a socket to communicate with an external driver. The `<address>` tag specifies the socket name (in this case a UNIX domain socket, it would be the IP or hostname in the case of a TCP/IP socket), while the `name` attribute specifies how this forcefield will be referred to when defining the actual physical interactions. "
   ]
  },
  {
   "cell_type": "code",
   "execution_count": 13,
   "metadata": {},
   "outputs": [
    {
     "name": "stdout",
     "output_type": "stream",
     "text": [
      "  <ffsocket mode='unix' name='ph2-ff'>\n",
      "    <address> ph2-driver</address>\n",
      "  </ffsocket>\n"
     ]
    }
   ],
   "source": [
    "!sed -n '8,10p' 01-constant_pressure/npt-md.xml"
   ]
  },
  {
   "cell_type": "markdown",
   "metadata": {},
   "source": [
    "The `<system>` tag defines everything that is system-related. `<initialize>` specifies where to fetch the initial atomic positions and cell size, while `<velocities>` instructs i-PI on how to initialize the particle momenta. Note that we have to specify that the temperature is given in kelvin, as i-PI assumes otherwise that it is provided in atomic units.\n",
    "\n",
    "`<forces>` specifies how to construct interactions. In this case, we simply fetch them from the single forcefield we have defined, but we shall see how more complicated setups can be realized. \n",
    "Finally, `<ensemble>` defines the thermodynamic boundary conditions: in this case, temperature and pressure. "
   ]
  },
  {
   "cell_type": "code",
   "execution_count": 14,
   "metadata": {},
   "outputs": [
    {
     "name": "stdout",
     "output_type": "stream",
     "text": [
      "  <system>\n",
      "    <initialize nbeads='1'>\n",
      "      <file mode='pdb'> para-h2.pdb </file>\n",
      "      <velocities mode='thermal' units='kelvin'> 25 </velocities>\n",
      "    </initialize>\n",
      "    <forces>\n",
      "      <force forcefield='ph2-ff'/>\n",
      "    </forces>\n",
      "    <ensemble>\n",
      "      <temperature units='kelvin'> 25 </temperature>\n",
      "      <pressure units='megapascal'> 50 </pressure>\n",
      "    </ensemble>\n"
     ]
    }
   ],
   "source": [
    "!sed -n '11,22p' 01-constant_pressure/npt-md.xml"
   ]
  },
  {
   "cell_type": "markdown",
   "metadata": {},
   "source": [
    "The way the position of the atoms should be evolved is specified in the `<motion>` section. In this case, we run molecular dynamics in the `npt` ensemble, which means we also have to specify a `<thermostat>` and a `<barostat>`. We use a Langevin piston barostat, which requires its own separate thermostat. We also specify `<timestep>`, and the time constants of all methods. "
   ]
  },
  {
   "cell_type": "code",
   "execution_count": 15,
   "metadata": {},
   "outputs": [
    {
     "name": "stdout",
     "output_type": "stream",
     "text": [
      "    <motion mode='dynamics'>\n",
      "      <dynamics mode='npt'>\n",
      "        <thermostat mode='pile_g'>\n",
      "          <tau units='femtosecond'> 25 </tau>\n",
      "        </thermostat>\n",
      "        <barostat mode='isotropic'>\n",
      "          <thermostat mode='langevin'>\n",
      "            <tau units='femtosecond'> 50 </tau>\n",
      "          </thermostat>\n",
      "          <tau units='femtosecond'> 250 </tau>\n",
      "        </barostat>\n",
      "        <timestep units='femtosecond'> 1 </timestep>\n",
      "      </dynamics>\n",
      "    </motion>\n",
      "  </system>\n",
      "</simulation>\n"
     ]
    }
   ],
   "source": [
    "!sed -n '23,40p' 01-constant_pressure/npt-md.xml"
   ]
  },
  {
   "cell_type": "markdown",
   "metadata": {},
   "source": [
    "## Running simulations"
   ]
  },
  {
   "cell_type": "markdown",
   "metadata": {},
   "source": [
    "We are going to launch i-PI from here, but you could do the same opening a terminal. Note that we launch i-PI, wait a couple of second for it to start up and open a socket, and then launch `i-pi-driver` to evaluate energy and forces. We put everything in background and detach the processes from the jupyter instance, so we can continue the execution. **DON'T RE-RUN THE CELL BEFORE THE CALCULATION HAS FINISHED** to avoid conflicts and file overwriting. "
   ]
  },
  {
   "cell_type": "code",
   "execution_count": 16,
   "metadata": {},
   "outputs": [],
   "source": [
    "%%bash --bg\n",
    "cd 01-constant_pressure\n",
    "PYTHONUNBUFFERED=1 i-pi npt-md.xml &> log.md &\n",
    "sleep 5\n",
    "i-pi-driver -u -a ph2-driver -m sg -o 15 -v &> log.driver"
   ]
  },
  {
   "cell_type": "markdown",
   "metadata": {},
   "source": [
    "You can view the log from here, or move on to visualize the results"
   ]
  },
  {
   "cell_type": "code",
   "execution_count": 36,
   "metadata": {},
   "outputs": [
    {
     "name": "stdout",
     "output_type": "stream",
     "text": [
      " # Average timings at MD step    3600. t/step: 4.19789e-02\n",
      " # Average timings at MD step    3700. t/step: 3.78129e-02\n",
      " # Average timings at MD step    3800. t/step: 4.18019e-02\n",
      " # Average timings at MD step    3900. t/step: 3.90361e-02\n",
      " # Average timings at MD step    4000. t/step: 4.13204e-02\n",
      " # Average timings at MD step    4100. t/step: 3.91628e-02\n",
      " # Average timings at MD step    4200. t/step: 4.08930e-02\n",
      " # Average timings at MD step    4300. t/step: 4.73714e-02\n",
      " # Average timings at MD step    4400. t/step: 3.31782e-02\n",
      " # Average timings at MD step    4500. t/step: 3.92510e-02\n",
      " # Average timings at MD step    4600. t/step: 4.04831e-02\n",
      " # Average timings at MD step    4700. t/step: 3.95914e-02\n",
      " # Average timings at MD step    4800. t/step: 3.71083e-02\n",
      " # Average timings at MD step    4900. t/step: 5.42488e-02\n",
      "SOFTEXIT CALLED FROM THREAD <_MainThread(MainThread, started 140680583317312)>  @ SIMULATION: Exiting cleanly.\n",
      " !W! Soft exit has been requested with message: ' @ SIMULATION: Exiting cleanly.\n",
      "I-PI reports success. Restartable as is: NO.'. Cleaning up.\n",
      " @SOCKET: Shutting down the driver interface.\n",
      "SOFTEXIT: Saving the latest status at the end of the step\n",
      "Backup performed: RESTART -> #RESTART#11#\n"
     ]
    }
   ],
   "source": [
    "!tail -n 20 01-constant_pressure/log.md"
   ]
  },
  {
   "cell_type": "markdown",
   "metadata": {},
   "source": [
    "## Visualizing and analyzing results"
   ]
  },
  {
   "cell_type": "markdown",
   "metadata": {},
   "source": [
    "We use some utility functions to read the output of i-PI and visualize it. Note the fast equilibration of the cell volume, and how the pressure estimator converges to the target value. "
   ]
  },
  {
   "cell_type": "code",
   "execution_count": 37,
   "metadata": {},
   "outputs": [],
   "source": [
    "md_output = pimdmooc.read_ipi_output('01-constant_pressure/ph2-npt-md.md')"
   ]
  },
  {
   "cell_type": "code",
   "execution_count": 39,
   "metadata": {},
   "outputs": [
    {
     "data": {
      "image/png": "[encoded data removed]",
      "text/plain": [
       "<Figure size 576x216 with 2 Axes>"
      ]
     },
     "metadata": {
      "needs_background": "light"
     },
     "output_type": "display_data"
    }
   ],
   "source": [
    "fig, ax = plt.subplots(1,2,constrained_layout=True, figsize=(8,3))\n",
    "ax[0].plot(md_output[\"time\"], md_output[\"volume\"], 'b-', label=\"V / Å$^3$\")\n",
    "ax[0].set_xlabel(\"t / ps\")\n",
    "ax[0].set_ylabel(\"V / Å$^3$\")\n",
    "ax[1].plot(md_output[\"time\"], md_output[\"pressure_md\"], 'b-', label=\"p / MPa\")\n",
    "ax[1].set_xlabel(\"t / ps\")\n",
    "ax[1].set_ylabel(\"p / MPa\");"
   ]
  },
  {
   "cell_type": "code",
   "execution_count": 40,
   "metadata": {},
   "outputs": [],
   "source": [
    "# loads structures, discarding unused atom properties\n",
    "warnings.filterwarnings('ignore', '.*residuenumbers array.*')\n",
    "frames = ase.io.read('01-constant_pressure/ph2-npt-md.pos_0.pdb', \":\")\n",
    "for f in frames:\n",
    "    f.info = {}\n",
    "    f.arrays = {'positions': f.positions,  'numbers': f.numbers}"
   ]
  },
  {
   "cell_type": "markdown",
   "metadata": {},
   "source": [
    "We can also use `chemiscope` to visualize the trajectory. Notice the rapid equilibration of the supercell. "
   ]
  },
  {
   "cell_type": "code",
   "execution_count": 41,
   "metadata": {},
   "outputs": [
    {
     "data": {
      "application/vnd.jupyter.widget-view+json": {
       "model_id": "16c0b9db088549d4815155bc5556166d",
       "version_major": 2,
       "version_minor": 0
      },
      "text/plain": [
       "ChemiscopeWidget(value='{\"meta\": {\"name\": \" \"}, \"settings\": {\"structure\": [{\"keepOrientation\": true, \"unitCell…"
      ]
     },
     "execution_count": 41,
     "metadata": {},
     "output_type": "execute_result"
    }
   ],
   "source": [
    "chemiscope.show(frames=frames, \n",
    "                     properties={\n",
    "                         \"t\" : { \"values\":  md_output[\"time\"][::10], \"units\": \"ps\", \"target\":\"structure\"},\n",
    "                         \"U\" : { \"values\":  md_output[\"potential\"][::10], \"units\": \"eV\", \"target\":\"structure\"},\n",
    "                         \"V\" : { \"values\":  md_output[\"volume\"][::10], \"units\": r\"Å\", \"target\":\"structure\"}\n",
    "                     },\n",
    "                     settings = {\n",
    "                         'structure': [{ 'keepOrientation': True, \n",
    "                                         'unitCell': True,\n",
    "                                         'playbackDelay': 20}],\n",
    "                        'map': {'x': {'max': 5,  'min': 0, 'property': 't', 'scale': 'linear'},\n",
    "                                'y': {'max': 3500,  'min': 2800, 'property': 'V', 'scale': 'linear'},\n",
    "                                 'color': {'property': 'U'}\n",
    "                               }\n",
    "                     })"
   ]
  },
  {
   "cell_type": "markdown",
   "metadata": {},
   "source": [
    "# Constant-pressure path integrals"
   ]
  },
  {
   "cell_type": "markdown",
   "metadata": {},
   "source": [
    "Systems such as para-hydrogen at cryogenic temperatures exhibit large quantum effects, which affect their thermodynamic properties, and in particular their equations of state. Performing _NpT_ simulation with quantum nuclei in i-PI is comparatively simple: the cell degrees of freedom are not quantized, and so in practice one only needs to change the estimator for $P_\\mathrm{int}$ to be one based on the centoid-virial estimator, and to increase the number of beads in the simulation. \n",
    "\n",
    "From the implementation side, there are some subtleties: for an efficient implementation, only the centroid of the ring polymers should be coupled to the volume scaling: the equations of motion, including also a Langevin thermostat for the path integral replicas and one for the cell degrees of freedom (a \"Langevin piston\" thermostat) read\n",
    "\n",
    "$$\n",
    "\\begin{split}\n",
    "\\dot{\\tilde{\\mathbf{p}}}^{(k)}_i = & \\sqrt{\\frac{2nm_i\\gamma_k}{\\beta}} \\boldsymbol{\\xi}^{(k)}_i \n",
    "-\\gamma_k {\\tilde{\\mathbf{p}}}^{(k)}_i \n",
    "+ {\\tilde{\\mathbf{f}}^{(k)}_i }\n",
    "- \\tilde{\\mathbf{p}}^{(k)}_i \\delta_{k0}\\, {\\alpha}/{\\mu}\n",
    "- m_{i}\\omega_k^2 \\tilde{\\mathbf{q}}^{(k)}_i \\\\\n",
    "\\dot {\\tilde{\\mathbf{q}}}^{(k)}_i =  & {\\tilde{\\mathbf{p}}^{(k)}_i }/{m_i} + \\tilde{\\mathbf{q}}^{(k)}_i  \\delta_{k0} \\, {\\alpha}/{\\mu} \\\\\n",
    "\\dot {V} = & 3 V \\,{\\alpha}/{\\mu} \\\\\n",
    "\\dot{\\alpha} = & \\sqrt{\\frac{2 n\\mu \\gamma_\\alpha}{\\beta}} \\xi_\\alpha - \\gamma_\\alpha \\alpha \n",
    "   + 3 n \\left[V \\left(P_{\\rm int}-P_{\\rm ext}\\right)+\\frac{1}{\\beta}\\right].\n",
    "\\end{split}\n",
    "$$\n",
    "\n",
    "You can read more about the theory and the implementation on the paper that accompanied the first release of i-PI ([M. Ceriotti, J. More, and D. E. Manolopoulos, Comp. Phys. Comm. 185(3), 1019–1026 (2014)](https://doi.org/10.1016/j.cpc.2013.10.027))."
   ]
  },
  {
   "cell_type": "markdown",
   "metadata": {},
   "source": [
    "From a practical perspective, there is very little that needs to be changed in the input file. You can see in `npt-pimd.xml` that we only change the output properties to provide the centroid-virial kinetic energy and pressure estimators, and change `nbeads` to 4. "
   ]
  },
  {
   "cell_type": "code",
   "execution_count": 23,
   "metadata": {},
   "outputs": [
    {
     "name": "stdout",
     "output_type": "stream",
     "text": [
      "  <output prefix='ph2-npt-pimd'>\n",
      "    <properties filename='md' stride='10'> [step, time{picosecond}, conserved{electronvolt}, temperature{kelvin}, potential{electronvolt}, kinetic_cv{electronvolt}, pressure_cv{megapascal}, volume{angstrom3}] </properties>\n",
      "    <trajectory filename='pos' stride='100' format='pdb' cell_units='angstrom'> positions{angstrom} </trajectory>\n",
      "    <checkpoint filename='checkpoint' stride='1000' overwrite='True'/>\n",
      "  </output>\n",
      "\n",
      "[....]\n",
      "\n",
      "    <initialize nbeads='4'>\n"
     ]
    }
   ],
   "source": [
    "!sed -n '2,6p' 01-constant_pressure/npt-pimd.xml\n",
    "print(\"\\n[....]\\n\")\n",
    "!sed -n '12p' 01-constant_pressure/npt-pimd.xml"
   ]
  },
  {
   "cell_type": "markdown",
   "metadata": {},
   "source": [
    "## Running PIMD simulations\n",
    "\n",
    "Given that we use four replicas, we can run multiple drivers and exploit the trivial parallelism in the calculation of the potential."
   ]
  },
  {
   "cell_type": "code",
   "execution_count": 26,
   "metadata": {},
   "outputs": [],
   "source": [
    "%%bash --bg\n",
    "cd 01-constant_pressure\n",
    "PYTHONUNBUFFERED=1 i-pi npt-pimd.xml &> log.pimd &\n",
    "sleep 5\n",
    "for i in `seq 1 4`; do\n",
    "   i-pi-driver -u -a ph2-driver-pi -m sg -o 15 -v &> log.driver.$i &\n",
    "done\n",
    "wait"
   ]
  },
  {
   "cell_type": "markdown",
   "metadata": {},
   "source": [
    "You can view the log from here, or move on to visualize the results"
   ]
  },
  {
   "cell_type": "code",
   "execution_count": 46,
   "metadata": {},
   "outputs": [
    {
     "name": "stdout",
     "output_type": "stream",
     "text": [
      " # Average timings at MD step    3600. t/step: 4.53720e-02\n",
      " # Average timings at MD step    3700. t/step: 4.77827e-02\n",
      " # Average timings at MD step    3800. t/step: 4.64186e-02\n",
      " # Average timings at MD step    3900. t/step: 5.95865e-02\n",
      " # Average timings at MD step    4000. t/step: 5.08420e-02\n",
      " # Average timings at MD step    4100. t/step: 5.02388e-02\n",
      " # Average timings at MD step    4200. t/step: 4.84722e-02\n",
      " # Average timings at MD step    4300. t/step: 4.53573e-02\n",
      " # Average timings at MD step    4400. t/step: 4.54709e-02\n",
      " # Average timings at MD step    4500. t/step: 4.30920e-02\n",
      " # Average timings at MD step    4600. t/step: 4.43793e-02\n",
      " # Average timings at MD step    4700. t/step: 4.80124e-02\n",
      " # Average timings at MD step    4800. t/step: 4.85401e-02\n",
      " # Average timings at MD step    4900. t/step: 5.14690e-02\n",
      "SOFTEXIT CALLED FROM THREAD <_MainThread(MainThread, started 140699804796736)>  @ SIMULATION: Exiting cleanly.\n",
      " !W! Soft exit has been requested with message: ' @ SIMULATION: Exiting cleanly.\n",
      "I-PI reports success. Restartable as is: NO.'. Cleaning up.\n",
      " @SOCKET: Shutting down the driver interface.\n",
      "SOFTEXIT: Saving the latest status at the end of the step\n",
      "Backup performed: RESTART -> #RESTART#12#\n"
     ]
    }
   ],
   "source": [
    "!tail -n 20 01-constant_pressure/log.pimd"
   ]
  },
  {
   "cell_type": "markdown",
   "metadata": {},
   "source": [
    "## Post-processing"
   ]
  },
  {
   "cell_type": "markdown",
   "metadata": {},
   "source": [
    "Let's now load up the trajectory and compare it to the classical one"
   ]
  },
  {
   "cell_type": "code",
   "execution_count": 47,
   "metadata": {},
   "outputs": [],
   "source": [
    "pimd_output = pimdmooc.read_ipi_output('01-constant_pressure/ph2-npt-pimd.md')"
   ]
  },
  {
   "cell_type": "markdown",
   "metadata": {},
   "source": [
    "Pressure equilibrates rapidly to the target value of 50 MPa, but the equilibrium volume is much larger than that from the classical simulation, because of zero-point energy effects."
   ]
  },
  {
   "cell_type": "code",
   "execution_count": 48,
   "metadata": {},
   "outputs": [
    {
     "data": {
      "image/png": "[encoded data removed]",
      "text/plain": [
       "<Figure size 576x216 with 2 Axes>"
      ]
     },
     "metadata": {
      "needs_background": "light"
     },
     "output_type": "display_data"
    }
   ],
   "source": [
    "fig, ax = plt.subplots(1,2,constrained_layout=True, figsize=(8,3))\n",
    "ax[0].plot(md_output[\"time\"], md_output[\"volume\"], 'b:', label=\"MD\")\n",
    "ax[0].plot(pimd_output[\"time\"], pimd_output[\"volume\"], 'r-', label=\"PIMD\")\n",
    "ax[0].set_xlabel(\"t / ps\")\n",
    "ax[0].set_ylabel(\"V / Å$^3$\")\n",
    "ax[1].plot(md_output[\"time\"], md_output[\"pressure_md\"], 'b:', label=\"MD\")\n",
    "ax[1].plot(pimd_output[\"time\"], pimd_output[\"pressure_cv\"], 'r-', label=\"PIMD\")\n",
    "ax[1].set_xlabel(\"t / ps\")\n",
    "ax[1].set_ylabel(\"p / MPa\");"
   ]
  },
  {
   "cell_type": "markdown",
   "metadata": {},
   "source": [
    "Zero-point energy is also very apparent on the energetics: potential and kinetic energy in the quantum simulation are much larger, similar to what one would observe in a constant-volume simulation. "
   ]
  },
  {
   "cell_type": "code",
   "execution_count": 49,
   "metadata": {},
   "outputs": [
    {
     "data": {
      "image/png": "[encoded data removed]",
      "text/plain": [
       "<Figure size 576x216 with 2 Axes>"
      ]
     },
     "metadata": {
      "needs_background": "light"
     },
     "output_type": "display_data"
    }
   ],
   "source": [
    "fig, ax = plt.subplots(1,2,constrained_layout=True, figsize=(8,3))\n",
    "ax[0].plot(md_output[\"time\"], md_output[\"potential\"], 'b:', label=\"MD\")\n",
    "ax[0].plot(pimd_output[\"time\"], pimd_output[\"potential\"], 'r-', label=\"PIMD\")\n",
    "ax[0].set_xlabel(\"t / ps\")\n",
    "ax[0].set_ylabel(\"U / eV\")\n",
    "ax[1].plot(md_output[\"time\"], md_output[\"kinetic_md\"], 'b:', label=\"MD\")\n",
    "ax[1].plot(pimd_output[\"time\"], pimd_output[\"kinetic_cv\"], 'r-', label=\"PIMD\")\n",
    "ax[1].set_xlabel(\"t / ps\")\n",
    "ax[1].set_ylabel(\"K / eV\");"
   ]
  },
  {
   "cell_type": "markdown",
   "metadata": {},
   "source": [
    "We can also load and visualize the PIMD simulations, combining the different beads to show the spread of the ring-polymers. The supercell is identical in all replicas, consistently with the fact it is treated classically. "
   ]
  },
  {
   "cell_type": "code",
   "execution_count": 50,
   "metadata": {},
   "outputs": [],
   "source": [
    "# loads structures, discarding unused atom properties\n",
    "warnings.filterwarnings('ignore', '.*residuenumbers array.*')\n",
    "pi_frames = [ ase.io.read('01-constant_pressure/ph2-npt-pimd.pos_'+str(i)+'.pdb', \":\") for i in range(4) ]\n",
    "frames = []\n",
    "for idx_f in range(len(pi_frames[0])):\n",
    "    f = pi_frames[0][idx_f]\n",
    "    for k in range(1,4):\n",
    "        f += pi_frames[k][idx_f]\n",
    "    f.info = {}\n",
    "    f.arrays = {'positions': f.positions,  'numbers': f.numbers}\n",
    "    frames.append(f)"
   ]
  },
  {
   "cell_type": "code",
   "execution_count": 51,
   "metadata": {},
   "outputs": [
    {
     "data": {
      "application/vnd.jupyter.widget-view+json": {
       "model_id": "cf9f675073b04f89a5cd3c5156b4c7d0",
       "version_major": 2,
       "version_minor": 0
      },
      "text/plain": [
       "ChemiscopeWidget(value='{\"meta\": {\"name\": \" \"}, \"settings\": {\"structure\": [{\"bonds\": false, \"keepOrientation\":…"
      ]
     },
     "execution_count": 51,
     "metadata": {},
     "output_type": "execute_result"
    }
   ],
   "source": [
    "chemiscope.show(frames=frames, \n",
    "                     properties={\n",
    "                         \"t\" : { \"values\":  pimd_output[\"time\"][::10], \"units\": \"ps\", \"target\":\"structure\"},\n",
    "                         \"U\" : { \"values\":  pimd_output[\"potential\"][::10], \"units\": \"eV\", \"target\":\"structure\"},\n",
    "                         \"V\" : { \"values\":  pimd_output[\"volume\"][::10], \"units\": r\"Å\", \"target\":\"structure\"}\n",
    "                     },\n",
    "                     settings = {\n",
    "                         'structure': [{ 'bonds': False, \n",
    "                                         'keepOrientation': True, \n",
    "                                         'unitCell': True,\n",
    "                                         'playbackDelay': 20}],\n",
    "                        'map': {'x': {'max': 5,  'min': 0, 'property': 't', 'scale': 'linear'},\n",
    "                                'y': {'max': 3500,  'min': 2800, 'property': 'V', 'scale': 'linear'},\n",
    "                                 'color': {'property': 'U'}\n",
    "                               }\n",
    "                     })"
   ]
  }
 ],
 "metadata": {
  "kernelspec": {
   "display_name": "Python 3",
   "language": "python",
   "name": "python3"
  },
  "language_info": {
   "codemirror_mode": {
    "name": "ipython",
    "version": 3
   },
   "file_extension": ".py",
   "mimetype": "text/x-python",
   "name": "python",
   "nbconvert_exporter": "python",
   "pygments_lexer": "ipython3",
   "version": "3.8.10"
  },
  "toc": {
   "base_numbering": 1,
   "nav_menu": {},
   "number_sections": true,
   "sideBar": true,
   "skip_h1_title": false,
   "title_cell": "Table of Contents",
   "title_sidebar": "Contents",
   "toc_cell": false,
   "toc_position": {
    "height": "calc(100% - 180px)",
    "left": "10px",
    "top": "150px",
    "width": "397px"
   },
   "toc_section_display": true,
   "toc_window_display": true
  }
 },
 "nbformat": 4,
 "nbformat_minor": 4
}
