{
 "cells": [
  {
   "cell_type": "markdown",
   "metadata": {},
   "source": [
    "<h1>Tutorial </h1>\n",
    "<h2>Computing Tunneling Rates Ising i-PI</h2>\n",
    "<h3>Yair Litman</h3>\n",
    " <h4>This tutorial is based on a previous tutorial, with contributions from J. Richardson, W. Fang, Y. Litman, V. Kapil, E. Sarolta Pos.</h4>"
   ]
  },
  {
   "cell_type": "markdown",
   "metadata": {},
   "source": [
    "In this exercise we will use i-PI to compute tunneling rates using the Ring Polymer Instanton  (RPI) rate theory [1]. \n",
    "The workflow of this excersice is quite different from the rest of the  tutorials since here we are not going to run any flavour of molecular dynamics but instead we will find stationary points on the ring-polymer potential-energy surface, $V^\\text{RP}$.\n"
   ]
  },
  {
   "cell_type": "markdown",
   "metadata": {},
   "source": [
    "The instanton geometry or instanton pathway is a stationary points of  $V^\\text{RP}$ that connects the reactants and the products. More specifically, it represents a first-order saddle point. In Figure 1, we show two schematic representations of  instanton pathways in 1D and 2D."
   ]
  },
  {
   "cell_type": "markdown",
   "metadata": {},
   "source": [
    "\n",
    "<figure>\n",
    "   <img src=\"Figures/Instanton_1D_and_2D.png\" alt=\"Alt Text\"  width=\"600\">\n",
    "    \n",
    "    Figure 1: a) Instanton pathway obtained in a one dimensional barrier b) Instanton pathway obatined in two dimensional potential energy surface. Red and blue represent higher and lower temperatures, respectively. The black dashed lines and the white circle corresponds to the minimum energy pathway and transtion state of the potential energy surface, respectively. Figures adapted from Ref. [2]\n",
    "  \n",
    "</figure>\n",
    "      \n",
    "    "
   ]
  },
  {
   "cell_type": "markdown",
   "metadata": {},
   "source": [
    "We will analyze the gas-phase bimolecular scattering reaction of H + CH$_4$, using the CBE potential-energy surface [3]. \n",
    "Full technical details of the instanton approach are described in Ref. [2,4].\n",
    "\n",
    "The simulation requires multiple runs of i-PI for the different stationary points on the surface followed by one postprocessing calculation to combine all the data to compute the rate.\n",
    "\n",
    "A typical workflow is summarized as follows:\n",
    "\n",
    "\n",
    "**Part I**: Find Reactant and Product \n",
    "* Find the minima on the potential energy surface of the physical system to identify the reactant and the product, Compute the reactant hessian to estimate the vibrational frequencies.\n",
    "\n",
    "**Part II**: Find Transition State\n",
    "* Find the first-order saddle point to locate the relevant transition state, and compute its hessian to estimate the vibrational frequencies.\n",
    "\n",
    "\n",
    "**Part III**: Find the Instanton Pathway with P replicas.\n",
    "\n",
    "\n",
    "1. Generate an initial guess of the instanton geometry with a reduced amount of replicas, $P$.\n",
    "\n",
    "\n",
    "2. Run an optimization algorithm to find the first-order saddle point of  $V^\\text{RP}$.\n",
    "\n",
    "\n",
    "\n",
    "3. Is the instanton calculation converged with respect to the number of replicas? yes: go to 6., otherwise continue\n",
    "\n",
    "\n",
    "4. Use an interpolation scheme to calculate the a ring polymer instanton for a larger number of replicas. Go to 2.\n",
    "\n",
    "\n",
    "5. Recompute the Hessian for each replica accurately \n",
    "\n",
    "\n",
    "\n",
    "6. Estimate the tunneling rate. \n",
    "\n",
    "\n",
    "\n",
    "A graphical workflow of this procedure is presented in Fig. 2."
   ]
  },
  {
   "cell_type": "markdown",
   "metadata": {},
   "source": [
    "\n",
    "<figure>\n",
    "   <img src=\"Figures/workflow.png\" alt=\"Alt Text\"  width=\"300\">\n",
    "  <figcaption>\n",
    "      Figure 2: Schematic representation of the workflow for an instanton calculation. The rounded\n",
    "boxes refers to actions or calculations, while the red diamonds to logical decisions. Yellow boxes\n",
    "are performed automatically by the code, and orange boxes require the use of an external script\n",
    "provided with the code. P and T refer to the number of replicas and temperature, respectively.\n",
    "    Figure adapted from Ref. [2].\n",
    "    </figcaption>\n",
    "</figure>\n",
    "\n",
    "\n"
   ]
  },
  {
   "cell_type": "markdown",
   "metadata": {},
   "source": [
    "If rates are required at more than one temperature, it is recommended to start with the highest one and cool sequentially, again using initial guesses from the previous optimizations. In Fig. 3, we graphical representation of the optimal pathway across the $P,T$ space."
   ]
  },
  {
   "cell_type": "markdown",
   "metadata": {},
   "source": [
    "<figure>\n",
    "  <img src=\"Figures/Cooling.png\" alt=\"Alt Text\"  width=\"500\">\n",
    "  <figcaption>Figure 3: Graphical representation of the optimatimal optimization pathway during an instanton rate calculation. The gray area illustrates a trade-off between the number of beads needed for a stable optimization and minimal computational cost. Once the optimization reaches the target temperature (represented by the white circle), further optimization with additional beads may be necessary to achieve the desired accuracy for the final reaction rate.\"    Figure adapted from Ref. [2].\n",
    "    </figcaption>\n",
    "</figure>"
   ]
  },
  {
   "cell_type": "markdown",
   "metadata": {},
   "source": [
    "Let's get started!"
   ]
  },
  {
   "cell_type": "code",
   "execution_count": 4,
   "metadata": {},
   "outputs": [],
   "source": [
    "import numpy as np\n",
    "from matplotlib import pyplot as plt\n",
    "from matplotlib import cycler\n",
    "from scipy import constants\n",
    "\n",
    "plt.rc('text', usetex=True)\n",
    "plt.rc('ps', usedistiller = 'xpdf')\n",
    "plt.rcParams['legend.fontsize'] = 'x-large'\n",
    "plt.rcParams['axes.labelsize'] = 'x-large'\n",
    "plt.rcParams['axes.titlesize'] = 'x-large'\n",
    "plt.rcParams['xtick.labelsize'] = 'x-large'\n",
    "plt.rcParams['ytick.labelsize'] = 'x-large'\n",
    "params = {'figure.figsize':(12, 5)}\n",
    "plt.rcParams['axes.prop_cycle'] = cycler(color=['r','b','k','g','y','c'])\n",
    "\n",
    "#UNITS:  \n",
    "invcm2au = 4.5563353e-06 #in i-PI unit_to_internal(\"frequency\", \"inversecm\", 1.0)\n",
    "\n",
    "def get_freq_from_eigvals(eigvals):\n",
    "    \"\"\"Transforms eigenvalues in atomic units to frequencies in cm^-1\"\"\"\n",
    "    freq_invcm = np.zeros(eigvals.shape)\n",
    "    for i, eig in enumerate(eigvals):\n",
    "      freq_invcm[i]= np.sign(eig) * np.absolute(eig) ** 0.5 / invcm2au\n",
    "    return freq_invcm\n"
   ]
  },
  {
   "cell_type": "markdown",
   "metadata": {},
   "source": [
    "<h2>Part I - Optimizing and analysing the reactant</h2>\n",
    "\n",
    "1. Go to the folder `input/reactant/minimization`. A good initial guess has been provided in `init.xyz` and the input file `input.xml`. Look at the input file which should be fairly self explanatory. Note that the text between `<!--` and `-->` is a comment.\n",
    "Then run i-PI using\n",
    "\n",
    "    `$ i-pi input.xml &`\n",
    "\n",
    "    and the driver using\n",
    "    \n",
    "    `$ i-pi-driver -m ch4hcbe -u`\n",
    "\n",
    "\tThe simulation takes ~ 31 steps and you should get the following message\n",
    "    \n",
    "    *Soft exit has been requested with message: 'Geometry optimization converged. Exiting simulation*\n",
    "    \n",
    "    \n",
    "    The final geometry can be seen in the last frame in `min.xc.xyz`. Once you finish this exercise, you could come back here and try to get the optimization to finish in fewer steps, e.g. by changing `sd` to one of the other optimizers.\n",
    "\n",
    "    Note that as this is a bimolecular reaction, the H and the CH$_4$ should be well separated and we have used a very large box size. \n",
    "\n",
    "\n",
    "2. Next, go to the folder `input/reactant/phonons` and copy the optimized geometry just obtained (last 8 lines) into a new file called `init.xyz`.\n",
    "\n",
    "We will now compute the hessian of this geometry by running:\n",
    "\n",
    "`$ i-pi input.xml &`\n",
    "\n",
    "`$ i-pi-driver -m ch4hcbe -u`\n",
    "    \n",
    "The hessian is saved in `phonons.hess` and its eigenvalues in `phonons.eigval`. \n",
    "  \n",
    "   "
   ]
  },
  {
   "cell_type": "markdown",
   "metadata": {},
   "source": [
    "Let's plot the vibrational frequencies: "
   ]
  },
  {
   "cell_type": "code",
   "execution_count": 4,
   "metadata": {},
   "outputs": [
    {
     "data": {
      "image/png": "[encoded data removed]",
      "text/plain": [
       "<Figure size 432x288 with 1 Axes>"
      ]
     },
     "metadata": {
      "needs_background": "light"
     },
     "output_type": "display_data"
    }
   ],
   "source": [
    "eigvals = np.genfromtxt('input/reactant/phonons/min.phonons.eigval')\n",
    "fr= get_freq_from_eigvals(eigvals)\n",
    "\n",
    "\n",
    "plt.plot(fr,'o')\n",
    "plt.xlabel('Vibrational Mode  Index')\n",
    "plt.ylabel('Frequency (cm$^{-1}$)')\n",
    "plt.show()"
   ]
  },
  {
   "cell_type": "markdown",
   "metadata": {},
   "source": [
    "Check that it has the required number (9) of almost zero frequencies. Why?"
   ]
  },
  {
   "cell_type": "markdown",
   "metadata": {},
   "source": [
    "<h2>Part II - Optimizing and analysing the transition state</h2>\n",
    "\n",
    "Go to `input/TS` and optimize the transition state using the usual run commands. Here i-PI treats the TS search as a <strong> one-bead instanton optimization</strong>. The simulation takes ~15 steps and writes the optimized geometry in `ts.instanton_FINAL_12.xyz` and its Hessian in `ts.instanton_FINAL.hess_12`.\n"
   ]
  },
  {
   "cell_type": "markdown",
   "metadata": {},
   "source": [
    "If you can, try to visualize the geometry using `vmd`. \n",
    "You should find something similar to Figure 4."
   ]
  },
  {
   "cell_type": "markdown",
   "metadata": {},
   "source": [
    "<figure>\n",
    "  <img src=\"Figures/TS.png\" alt=\"Alt Text\"  width=\"500\">\n",
    "  <figcaption>Figure 4: Transition state strucuture of the bimolecular scattering reaction of H + CH$_4$.\n",
    "    </figcaption>\n",
    "</figure>"
   ]
  },
  {
   "cell_type": "markdown",
   "metadata": {},
   "source": [
    "<h2>Part IIIA - First Instanton Optimization </h2>\n",
    "\n",
    "Instanton trajectories only exist below a critical temperature known as cross over temperature, $T_c$, which, in most cases, can be estimated by a parabolic barrier approximation as,\n",
    "\n",
    "<div align=\"center\">\n",
    "$ T_c= \\frac{\\hbar \\omega^\\dagger}{2\\pi}k_B$\n",
    "</div>\n",
    "\n",
    "where $\\omega^\\dagger$ is the imaginary frequency at the TS geometry, and $k_B$ the Boltzmann constant.\n",
    "For this reaction (and this potential energy surface), we obtain $\\omega^\\dagger$=1488 cm $^{-1}$ which which is a equivalent to 340 K.\n"
   ]
  },
  {
   "cell_type": "markdown",
   "metadata": {},
   "source": [
    "\n",
    " Go to the folder `input/instanton/40`. Copy the optimized transition state geometry obtained in <strong>Part II </strong> and name it `init.xyz`. Also copy the transition state hessian and name it `hessian.dat`. \n",
    "\n",
    "Open the `input.xml` and check the chosen temperature.  Does it make sense? \n",
    "Note that we are using 40 beads, but as we expect the forward and backward imaginary time path between the reactant and the product to be the same,  this corresponds to a ring polymer of 80 beads."
   ]
  },
  {
   "cell_type": "markdown",
   "metadata": {},
   "source": [
    "Run i-PI in the usual way, but here we can run 4 instances of driver simultaneously using:\n",
    "\n",
    "`$ i-pi-driver -m ch4hcbe -u &` <br>\n",
    "`$ i-pi-driver -m ch4hcbe -u &` <br>\n",
    "`$ i-pi-driver -m ch4hcbe -u &` <br>\n",
    "`$ i-pi-driver -m ch4hcbe -u &` <br>\n",
    "\t\n",
    "The program first generates the initial instanton guess based on points spread around the TS in the direction of the imaginary mode. Then, a first-order saddle point optimization takes place.\n",
    "\n",
    "\n",
    "The optimizied geometry, i.e the instanton geometry, is saved in `ts.instanton_FINAL_7.xyz`. \n",
    "Hessians for each bead are computed and saved in `ts.instanton_FINAL.hess_7` in the shape (3n,3 P n) where n is the number of atoms.\n",
    "\n",
    "Please try to visualize the instanton geometry  using for example `vmd`."
   ]
  },
  {
   "cell_type": "markdown",
   "metadata": {},
   "source": [
    "(*optional*) Repeat this step by setting the temperature at 350K. What do you think would happen?"
   ]
  },
  {
   "cell_type": "markdown",
   "metadata": {},
   "source": [
    "<h2> Part IIIB - Second and Subsequent Instanton Optimizations</h2>\n",
    "\n",
    "1. Make the folder `input/instanton/80`.\n",
    "2. Go to the folder `input/instanton/80`.\n",
    "4. Copy the optimized instanton geometry obtained in <strong>Part IIIA</strong> and name it `init0`.\n",
    "5. Copy the last hessian obtained in <strong>Part IIIA</strong> and name it `hess0`.\n",
    "6. Interpolate the instanton and the hessian to 80 beads by typing:\n",
    "    \n",
    "    `$ python ${ipi_path}/tools/py/Instanton_interpolation.py -m -xyz init0 -hess hess0 -n 80`\n",
    "    \n",
    "7. Rename the new hessian and instanton geometry files to `hessian.dat` and `init.xyz`, respectively\n",
    "8. Copy the `input.xml` file from `input/instanton/40/`.\n",
    "9. Change the number of beads from 40 to 80 in `input.xml`.\n",
    "10. Change the hessian shape from (18,18) to (18,1440)  in `input.xml`.\n",
    "11. Run as before. The program performs a optimization which takes 6 steps and then computes the hessian for the optimized structure."
   ]
  },
  {
   "cell_type": "markdown",
   "metadata": {},
   "source": [
    "<h2> Part IIIC - Postprocessing for the Rate Calculation </h2>\n",
    "\n",
    "\n",
    "As we are optimizing half instantons, the actual number of replicas for the instanton obtained in the previous step is 160. This is a little confusing currently, and may be changed in the future, so when using the Instanton posprocessing tool check use the help option (using -h) to find out what is needed.\n",
    "\n",
    "\n",
    "Before starting this section, ensure that `$PYTHONPATH` includes the i-PI directory and that the variable `$ipi_path` is correctly set in the postprocessing script `${ipi_path}/tools/py/Instanton_postproc.py` where `${ipi_path}` is the location of i-PI directory.\n",
    "\n",
    "\n",
    "1.  To compute the CH$_4$ partition function, go the `input/reactant/phonons`\n",
    "folder and type \n",
    "\n",
    "\t`$ python ${ipi_path}/tools/py/Instanton_postproc.py RESTART -c reactant -t 300 -n 160 -f 5`\n",
    "\n",
    "    which computes the ring polymer parition function for CH$_4$ with N = 160. Look at the output and make a note of the translational, rotational and vibrational partition functions. You may also want to put > data.out after the command to save the text directly to a file.\n",
    "    \n",
    "    \n",
    "2.  To compute the TS partition function, go to `input/TS` and type \n",
    "\n",
    "\t`$ python ${ipi_path}/tools/py/Instanton_postproc.py RESTART -c TS -t 300 -n 160`\n",
    "\n",
    "    which computes the ring polymer parition function for the TS with $N = 160$."
   ]
  },
  {
   "cell_type": "markdown",
   "metadata": {},
   "source": [
    "3. To compute the instanton partition function, $B_N$ and action, go to `input/instanton/80` and type\n",
    "\n",
    "\t`$ python ${ipi_path}/tools/py/Instanton_postproc.py RESTART -c instanton -t 300 > data.txt`\n",
    "\n",
    " "
   ]
  },
  {
   "cell_type": "markdown",
   "metadata": {},
   "source": [
    "The scripts provide the 'Final lowest 10 frequencies (cm^-1)'. Could you indentify the vibrational modes associated to the lowest two?"
   ]
  },
  {
   "cell_type": "markdown",
   "metadata": {},
   "source": [
    "  Then it is a simple matter to combine the partition functions, $B_N$, $S$, etc. into the formula given for the rate, and compute the ratio of the RPI rate, $k^\\mathrm{RPI}$, and TST rate, $k^\\mathrm{TST}$,\n",
    "  \n",
    "   $$ \\kappa^\\mathrm{tun} =\\frac{k^\\mathrm{RPI}}{k^\\mathrm{TST}}= f_{\\mathrm{trans}}\\ f_{\\mathrm{rot}}\\ f_{\\mathrm{vib}}\\ e^{-S/\\hbar + \\beta V^{\\dagger}}$$\n",
    "\n",
    "   $$ f_{\\mathrm{trans}} = \\dfrac{Q^{\\mathrm{inst}}_{\\mathrm{trans}}}{Q^{\\mathrm{TS}}_{\\mathrm{trans}}} $$\n",
    "\n",
    "   $$ f_{\\mathrm{rot}} = \\dfrac{Q^{\\mathrm{inst}}_{\\mathrm{rot}}}{Q^{\\mathrm{TS}}_{\\mathrm{rot}}} $$\n",
    "\n",
    "   $$ f_{\\mathrm{vib}} = \\sqrt{\\dfrac{2 \\pi N B_N}{\\beta \\hbar^2}}\\dfrac{Q^{\\mathrm{inst}}_{\\mathrm{vib}}}{Q^{\\mathrm{TS}}_{\\mathrm{vib}}} $$\n",
    "\n",
    "   Note that it is the log of the vibrational partition function which is printed, so you will have to convert this. \n",
    "   \n",
    "**Compare the instanton results with those of the transition state in order to compute the tunnelling factor.**\n",
    "\n",
    "   \n",
    "   In this way, you should find that the rate is about 9.8 times faster due to tunnelling. Which is the major contributing factor?\n"
   ]
  },
  {
   "cell_type": "code",
   "execution_count": 7,
   "metadata": {},
   "outputs": [
    {
     "name": "stdout",
     "output_type": "stream",
     "text": [
      "f_tra               = 1.000\n",
      "f_rot               = 1.037\n",
      "f_vib               = 8.225\n",
      "exp(-S/hbar+V/beta) = 1.150\n",
      "=============================\n",
      "Tunneling factor    = 9.809\n"
     ]
    }
   ],
   "source": [
    "#TS quantities\n",
    "Q_trn_TS = 10.187982157\n",
    "Q_rot_TS = 1206.15097078\n",
    "Q_vib_TS = np.exp(-44.2783849573)\n",
    "Beta_times_V = 25.1656385465\n",
    "\n",
    "#Instnaton quantities\n",
    "Q_trn_inst = 10.188\n",
    "Q_rot_inst = 1251.044\n",
    "Q_vib_inst = np.exp(-43.478)\n",
    "BN = 14.289\n",
    "Beta_times_S = -25.026\n",
    "\n",
    "#Constants\n",
    "recip_betan_hbar =   0.15201\n",
    "N = 160\n",
    "\n",
    "\n",
    "def kappa(Q_trn_TS,Q_rot_TS,Q_vib_TS,Q_trn_inst,Q_rot_inst,Q_vib_inst,BN,recip_betan_hbar,N,Beta_times_S,Beta_times_V):\n",
    "    f_trn = Q_trn_inst / Q_trn_TS\n",
    "    f_rot = Q_rot_inst / Q_rot_TS\n",
    "    f_vib = np.sqrt(2.*np.pi*BN*recip_betan_hbar)*Q_vib_inst/Q_vib_TS\n",
    "    \n",
    "    kappa = f_trn * f_rot * f_vib * np.exp(Beta_times_S + Beta_times_V)\n",
    "    \n",
    "    #printing out the transmission factor and the relevant contributions. \n",
    "    print('f_tra               = {:5.3f}'.format(f_trn))\n",
    "    print('f_rot               = {:5.3f}'.format(f_rot))\n",
    "    print('f_vib               = {:5.3f}'.format(f_vib))\n",
    "    print('exp(-S/hbar+V/beta) = {:5.3f}'.format(np.exp(Beta_times_S + Beta_times_V) ))\n",
    "    print('=============================')\n",
    "    print('Tunneling factor    = {:5.3f}'.format(kappa))\n",
    "        \n",
    "    #return kappa\n",
    "\n",
    "kappa(Q_trn_TS,Q_rot_TS,Q_vib_TS,Q_trn_inst,Q_rot_inst,Q_vib_inst,BN,recip_betan_hbar,N,Beta_times_S,Beta_times_V)"
   ]
  },
  {
   "cell_type": "markdown",
   "metadata": {},
   "source": [
    "4. In this tutorial, the number of beads used in the example is much more than necessary. Please try the instanton calculation with 10 or 20 beads, and see how the results $\\kappa^\\mathrm{tun}$ compare.\n"
   ]
  },
  {
   "cell_type": "code",
   "execution_count": 10,
   "metadata": {
    "scrolled": true
   },
   "outputs": [
    {
     "data": {
      "image/png": "[encoded data removed]",
      "text/plain": [
       "<Figure size 576x288 with 2 Axes>"
      ]
     },
     "metadata": {
      "needs_background": "light"
     },
     "output_type": "display_data"
    }
   ],
   "source": [
    "kappadat = np.array([\n",
    "    [10  ,  18.486247675370873],\n",
    "    [20  ,  11.481103709870357],\n",
    "    [40  ,  10.127813329699068],\n",
    "    [80  ,   9.809437521247709]])\n",
    "\n",
    "fig, axs = plt.subplots(1, 2, figsize=plt.figaspect(0.5))\n",
    "labelsize = 15\n",
    "\n",
    "axs[0].plot(kappadat[:,0],kappadat[:,1],'ro--')\n",
    "axs[1].plot(kappadat[:,0],(kappadat[-1,1]-kappadat[:,1])/kappadat[-1,1]*100,'ro--')\n",
    "\n",
    "axs[0].set_title(r'Convergence of $\\kappa^\\mathrm{tun}$ ',fontsize=labelsize)\n",
    "axs[0].set_xlabel(r'Number of (half) Instanton Beads',fontsize=labelsize)\n",
    "axs[0].set_ylabel(r'$\\kappa^\\mathrm{tun}$',fontsize=labelsize)\n",
    "axs[1].set_title(r' \\% Error on $\\kappa^\\mathrm{tun}$ ',fontsize=labelsize)\n",
    "axs[1].set_xlabel(r'Number of (half) Instanton Beads',fontsize=labelsize)\n",
    "axs[1].set_ylabel(r'$\\kappa^\\mathrm{tun}$',fontsize=labelsize)\n",
    "\n",
    "axs[0].set_xlim([0,90])\n",
    "axs[1].set_xlim([0,90])\n",
    "\n",
    "\n",
    "plt.tight_layout()\n",
    "\n",
    "plt.show()\n",
    "\n"
   ]
  },
  {
   "cell_type": "markdown",
   "metadata": {},
   "source": [
    "(*optional*) How does $\\kappa^\\mathrm{tun}$  change with temperature. Compute it at 250 K, 200 K and 150 K and find it out!"
   ]
  },
  {
   "cell_type": "markdown",
   "metadata": {},
   "source": [
    "Run the required calculations and complete the cell below with  $\\kappa^\\mathrm{tun}$ values [5]"
   ]
  },
  {
   "cell_type": "code",
   "execution_count": 1,
   "metadata": {},
   "outputs": [
    {
     "ename": "NameError",
     "evalue": "name 'np' is not defined",
     "output_type": "error",
     "traceback": [
      "\u001b[0;31m---------------------------------------------------------------------------\u001b[0m",
      "\u001b[0;31mNameError\u001b[0m                                 Traceback (most recent call last)",
      "\u001b[0;32m<ipython-input-1-1756227c41a6>\u001b[0m in \u001b[0;36m<module>\u001b[0;34m\u001b[0m\n\u001b[0;32m----> 1\u001b[0;31m kappadat = np.array([\n\u001b[0m\u001b[1;32m      2\u001b[0m     \u001b[0;34m[\u001b[0m\u001b[0;36m300\u001b[0m  \u001b[0;34m,\u001b[0m  \u001b[0;36m9.81\u001b[0m\u001b[0;34m]\u001b[0m\u001b[0;34m,\u001b[0m\u001b[0;34m\u001b[0m\u001b[0;34m\u001b[0m\u001b[0m\n\u001b[1;32m      3\u001b[0m     \u001b[0;34m[\u001b[0m\u001b[0;36m250\u001b[0m  \u001b[0;34m,\u001b[0m \u001b[0mCOMPLETE\u001b[0m \u001b[0;34m]\u001b[0m\u001b[0;34m,\u001b[0m\u001b[0;34m\u001b[0m\u001b[0;34m\u001b[0m\u001b[0m\n\u001b[1;32m      4\u001b[0m     \u001b[0;34m[\u001b[0m\u001b[0;36m200\u001b[0m  \u001b[0;34m,\u001b[0m \u001b[0mCOMPLETE\u001b[0m \u001b[0;34m]\u001b[0m\u001b[0;34m,\u001b[0m\u001b[0;34m\u001b[0m\u001b[0;34m\u001b[0m\u001b[0m\n\u001b[1;32m      5\u001b[0m     [150  , COMPLETE ]])\n",
      "\u001b[0;31mNameError\u001b[0m: name 'np' is not defined"
     ]
    }
   ],
   "source": [
    "kappadat = np.array([\n",
    "    [300  ,  9.81],\n",
    "    [250  , COMPLETE ],\n",
    "    [200  , COMPLETE ],\n",
    "    [150  , COMPLETE ]])"
   ]
  },
  {
   "cell_type": "code",
   "execution_count": 6,
   "metadata": {},
   "outputs": [
    {
     "ename": "NameError",
     "evalue": "name 'kappadat' is not defined",
     "output_type": "error",
     "traceback": [
      "\u001b[0;31m---------------------------------------------------------------------------\u001b[0m",
      "\u001b[0;31mNameError\u001b[0m                                 Traceback (most recent call last)",
      "\u001b[0;32m<ipython-input-6-7997c792e76b>\u001b[0m in \u001b[0;36m<module>\u001b[0;34m\u001b[0m\n\u001b[1;32m      2\u001b[0m \u001b[0mlabelsize\u001b[0m \u001b[0;34m=\u001b[0m \u001b[0;36m15\u001b[0m\u001b[0;34m\u001b[0m\u001b[0;34m\u001b[0m\u001b[0m\n\u001b[1;32m      3\u001b[0m \u001b[0;34m\u001b[0m\u001b[0m\n\u001b[0;32m----> 4\u001b[0;31m \u001b[0maxs\u001b[0m\u001b[0;34m.\u001b[0m\u001b[0mplot\u001b[0m\u001b[0;34m(\u001b[0m\u001b[0mkappadat\u001b[0m\u001b[0;34m[\u001b[0m\u001b[0;34m:\u001b[0m\u001b[0;34m,\u001b[0m\u001b[0;36m0\u001b[0m\u001b[0;34m]\u001b[0m\u001b[0;34m,\u001b[0m\u001b[0mnp\u001b[0m\u001b[0;34m.\u001b[0m\u001b[0mlog\u001b[0m\u001b[0;34m(\u001b[0m\u001b[0mkappadat\u001b[0m\u001b[0;34m[\u001b[0m\u001b[0;34m:\u001b[0m\u001b[0;34m,\u001b[0m\u001b[0;36m1\u001b[0m\u001b[0;34m]\u001b[0m\u001b[0;34m)\u001b[0m\u001b[0;34m,\u001b[0m\u001b[0;34m'ro--'\u001b[0m\u001b[0;34m)\u001b[0m\u001b[0;34m\u001b[0m\u001b[0;34m\u001b[0m\u001b[0m\n\u001b[0m\u001b[1;32m      5\u001b[0m \u001b[0;34m\u001b[0m\u001b[0m\n\u001b[1;32m      6\u001b[0m \u001b[0maxs\u001b[0m\u001b[0;34m.\u001b[0m\u001b[0mset_title\u001b[0m\u001b[0;34m(\u001b[0m\u001b[0;34mr' $\\kappa^\\mathrm{tun}$ '\u001b[0m\u001b[0;34m,\u001b[0m\u001b[0mfontsize\u001b[0m\u001b[0;34m=\u001b[0m\u001b[0mlabelsize\u001b[0m\u001b[0;34m)\u001b[0m\u001b[0;34m\u001b[0m\u001b[0;34m\u001b[0m\u001b[0m\n",
      "\u001b[0;31mNameError\u001b[0m: name 'kappadat' is not defined"
     ]
    },
    {
     "data": {
      "image/png": "[encoded data removed]",
      "text/plain": [
       "<Figure size 432x288 with 1 Axes>"
      ]
     },
     "metadata": {
      "needs_background": "light"
     },
     "output_type": "display_data"
    }
   ],
   "source": [
    "fig, axs = plt.subplots() \n",
    "labelsize = 15\n",
    "\n",
    "axs.plot(kappadat[:,0],np.log(kappadat[:,1]),'ro--')\n",
    "\n",
    "axs.set_title(r' $\\kappa^\\mathrm{tun}$ ',fontsize=labelsize)\n",
    "axs.set_xlabel(r' Temperature (K)',fontsize=labelsize)\n",
    "axs.set_ylabel(r'$\\kappa^\\mathrm{tun}$',fontsize=labelsize)\n",
    "\n",
    "#axs[0].set_xlim([0,90])\n",
    "\n",
    "\n",
    "\n",
    "plt.tight_layout()\n",
    "\n",
    "plt.show()"
   ]
  },
  {
   "cell_type": "markdown",
   "metadata": {},
   "source": [
    "<h2><strong><span style=\"font-size:24px;\">References </span></strong></h2>\n",
    "\n",
    "<br>[1] J. O. Richardson. Ring-polymer instanton theory. Int. Rev. Phys. Chem.,\n",
    "37:171, <strong>2018</strong>.\n",
    "\n",
    "[2] Y. Litman, Tunneling and zero-point energy effects in multidimensional hydrogen transfer reactions: From gas phase to adsorption on metal surfaces, Ph.D. thesis, Freie Universität Berlin, <strong>2020</strong>\n",
    "\n",
    "\n",
    "[3] J. C. Corchado, J. L. Bravo, and J. Espinosa-Garcia. The hydrogen\n",
    "abstraction reaction H + CH_4 . I. New analytical potential energy surface based\n",
    "on fitting to ab initio calculations. J. Chem. Phys., 130(18): 184314, <strong>2009</strong>.\n",
    "\n",
    "[4] A. N. Beyer, J. O. Richardson, P. J. Knowles, J. Rommel, and S. C. Althorpe,\n",
    "Quantum Tunneling Rates of Gas-Phase Reactions from On-the-Fly Instanton Calculations\n",
    "J. Phys. Chem. Lett. 7, 4374 <strong>2016</strong>.\n",
    "\n",
    "[5] The expected values of $\\kappa^\\mathrm{tun}$ are: \n",
    "250K COMPLETE,\n",
    "200K COMPLETE, and 150K COMPLETE."
   ]
  },
  {
   "cell_type": "code",
   "execution_count": null,
   "metadata": {},
   "outputs": [],
   "source": []
  },
  {
   "cell_type": "code",
   "execution_count": null,
   "metadata": {},
   "outputs": [],
   "source": []
  }
 ],
 "metadata": {
  "kernelspec": {
   "display_name": "Python 3",
   "language": "python",
   "name": "python3"
  },
  "language_info": {
   "codemirror_mode": {
    "name": "ipython",
    "version": 3
   },
   "file_extension": ".py",
   "mimetype": "text/x-python",
   "name": "python",
   "nbconvert_exporter": "python",
   "pygments_lexer": "ipython3",
   "version": "3.7.6"
  }
 },
 "nbformat": 4,
 "nbformat_minor": 4
}
